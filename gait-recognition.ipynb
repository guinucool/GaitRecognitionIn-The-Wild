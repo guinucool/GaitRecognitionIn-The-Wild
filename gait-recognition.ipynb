{
 "cells": [
  {
   "cell_type": "code",
   "execution_count": 1,
   "metadata": {},
   "outputs": [],
   "source": [
    "from scipy.signal import firwin, lfilter, kaiserord, argrelmin\n",
    "from scipy.interpolate import interp1d, CubicSpline\n",
    "from sklearn.decomposition import PCA\n",
    "import matplotlib.pyplot as plt\n",
    "import matplotlib as mpt\n",
    "import numpy as np\n",
    "import math"
   ]
  },
  {
   "cell_type": "markdown",
   "metadata": {},
   "source": [
    "# WALK ON: GAIT RECOGNITION IN-THE-WILD"
   ]
  },
  {
   "cell_type": "markdown",
   "metadata": {},
   "source": [
    "## Introduction"
   ]
  },
  {
   "cell_type": "markdown",
   "metadata": {},
   "source": [
    "The widespreading of wearable and portable IoT devices is greatly improving quality of life thanks to the development of 5G and data analysis techniques. Every device we use can collect data regarding our daily activities and use it to help improve their practice. However this can also lead to great security and privacy vulnerabilities when the data handling procedure is not carried out correctly.\n",
    "\n",
    "With the data collected from devices we already carry every day (like our smartphones), it is possible to collect gait data that can be used to identify activities or individuals."
   ]
  },
  {
   "cell_type": "markdown",
   "metadata": {},
   "source": [
    "## Objective"
   ]
  },
  {
   "cell_type": "markdown",
   "metadata": {},
   "source": [
    "This project has the objetive to use gait data collected from different subject's phones to create and train a deep learning model that will be capable of identifying users given their gait information.\n",
    "\n",
    "In particular data from the accelerometer and gyroscope will be used to detect signal sequences relative to a step. These will then be classified to identify different users depending on their walking patterns.\n",
    "\n",
    "This problem can be divided in two smaller tasks i.e. extraction of the signal relative to a step (this can be done with standard signal processing techniques), and then classification using a neural network.\n",
    "\n",
    "The former will be addressed with the procedure proposed in [1], which was developed for mobile phone sensors, but can easily be extended to any other wearable device. Classification, on the other hand, will be addressed with a simple CNN.\n",
    "\n",
    "[1] Gadaleta, Matteo, and Michele Rossi. \"Idnet: Smartphone-based gait recognition with convolutional neural networks.\" Pattern Recognition 74 (2018): 25-37."
   ]
  },
  {
   "cell_type": "markdown",
   "metadata": {},
   "source": [
    "## Dataset acquisition"
   ]
  },
  {
   "cell_type": "code",
   "execution_count": 1,
   "metadata": {},
   "outputs": [],
   "source": [
    "!mkdir datasets"
   ]
  },
  {
   "cell_type": "markdown",
   "metadata": {},
   "source": [
    "The datasets used for the exploration and development of this project are given by [2]. There are four datasets dedicated to the goals this project wants to achieve, so every one of them will be used in order to more accurately measure the results obtained by the developed model.\n",
    "\n",
    "To test the model with all the different datasets, the reading of the desired dataset should be done first and then all the remaining processes should be runned afterwards. Everytime it is intended to switch the analyzed dataset, the process should be repeated.\n",
    "\n",
    "[2] Zou Q, Wang Y, Zhao Y, Wang Q and Li Q, Deep learning-based gait recogntion using smartphones in the wild, IEEE Transactions on Information Forensics and Security, vol. 15, no. 1, pp. 3197-3212, 2020."
   ]
  },
  {
   "cell_type": "markdown",
   "metadata": {},
   "source": [
    "### Utilities"
   ]
  },
  {
   "cell_type": "markdown",
   "metadata": {},
   "source": [
    "In this section, a set of utility functions used for the parsing of the devices datasets information is defined.\n",
    "\n",
    "The focus of the reading of the gait datasets is the conversion of the information into lists of shape Samples * Signals * Axis, where Signals * Axis is a numpy matrix for efficiency purposes.\n",
    "\n",
    "The focus of the reading of the label datasets is the conversion of the information into lists where each element is a user label for the corresponding sample."
   ]
  },
  {
   "cell_type": "code",
   "execution_count": 3,
   "metadata": {},
   "outputs": [],
   "source": [
    "DATASET = 'datasets/dataset'\n",
    "TRAIN = 'train'\n",
    "TEST = 'test'\n",
    "GYROSCOPE = 'gyr'\n",
    "ACCELEROMETER = 'acc'\n",
    "EXTENSION = '.txt'\n",
    "\n",
    "def load_gait_information(x: str, y: str, z: str) -> list:\n",
    "    '''\n",
    "    Read all the x, y and z axis signals of a device dataset.\n",
    "\n",
    "    Args:\n",
    "        x (str): The path for the dataset of x signals.\n",
    "        y (str): The path for the dataset of y signals.\n",
    "        z (str): The path for the dataset of z signals.\n",
    "\n",
    "    Returns:\n",
    "        list: The list of loaded samples in the format Samples * Signals * Axis.\n",
    "    '''\n",
    "\n",
    "    # Create the final list where the samples will be stored\n",
    "    axis = []\n",
    "\n",
    "    # Iterative process for every axis dataset reading\n",
    "    for path in [x, y, z]:\n",
    "\n",
    "        # Create a temporary list for storing all the sample signals from the chosen axis\n",
    "        samples = []\n",
    "\n",
    "        # Open the dataset file location\n",
    "        file = open(path, 'r')\n",
    "\n",
    "        # Read every row of the dataset\n",
    "        for row in file:\n",
    "\n",
    "            # Conversion of the signals values and addition to the samples list\n",
    "            samples.append(np.array(row.strip().split(' '), dtype=np.float32))\n",
    "\n",
    "        # Addition of the samples list to the axis list\n",
    "        axis.append(samples)\n",
    "\n",
    "        # Closing of the read file\n",
    "        file.close()\n",
    "\n",
    "    # Convert the samples collected into a matrix\n",
    "    axis = np.array(axis)\n",
    "\n",
    "    # Convert the samples matrix to the desired format\n",
    "    data_matrix = np.transpose(axis, (1, 2, 0))\n",
    "\n",
    "    # Convert it back into a list where each sample is a signals matrix of type Signals * Axis\n",
    "    data = [sample for sample in data_matrix]\n",
    "\n",
    "    # Return the samples list\n",
    "    return data\n",
    "\n",
    "def load_dev_gait_information(dataset: int, device: str, purpose: str) -> list:\n",
    "    '''\n",
    "    Read all the axis signals for a certain purpose of a certain device.\n",
    "\n",
    "    Args:\n",
    "        dataset (int): The number of the intended dataset.\n",
    "        device (str): The nickname of the device desired.\n",
    "        purpose (str): The nickname of the purpose desired.\n",
    "\n",
    "    Returns:\n",
    "        list: The list of loaded samples in the format Samples * Signals * Axis.\n",
    "    '''\n",
    "\n",
    "    # Create the general reading path\n",
    "    path = f'{DATASET}{dataset}/{purpose}_{device}_'\n",
    "\n",
    "    # Create the list of reading paths\n",
    "    paths = []\n",
    "\n",
    "    # Interate between all the available reading axis\n",
    "    for axis in ['x', 'y', 'z']:\n",
    "\n",
    "        # Create the definitive path for each axis\n",
    "        axis_path = path + axis + EXTENSION\n",
    "\n",
    "        # Append the created path to the list of paths\n",
    "        paths.append(axis_path)\n",
    "\n",
    "    # Read and return the information desired\n",
    "    return load_gait_information(paths[0], paths[1], paths[2])\n",
    "\n",
    "def load_output_information(path: str) -> list:\n",
    "    '''\n",
    "    Read the subject labels (y) for the gait samples.\n",
    "\n",
    "    Args:\n",
    "        path (str): The destination of the labels dataset.\n",
    "\n",
    "    Returns:\n",
    "        list: The list of labels for each sample.\n",
    "    '''\n",
    "\n",
    "    # Open the label dataset\n",
    "    file = open(path, 'r')\n",
    "\n",
    "    # Read and convert every label in the dataset\n",
    "    labels = [int(label) for label in file]\n",
    "\n",
    "    # Return the obtained list of labels\n",
    "    return labels\n",
    "\n",
    "def load_purpose_output_information(dataset: int, purpose: str) -> list:\n",
    "    '''\n",
    "    Read the subject labels for a certain purpose.\n",
    "\n",
    "    Args:\n",
    "        dataset (int): The number of the intended dataset.\n",
    "        purpose (str): The nickname of the purpose desired.\n",
    "\n",
    "    Returns:\n",
    "        list: The list of labels for each sample.\n",
    "    '''\n",
    "\n",
    "    # Create the path for the dataset\n",
    "    path = f'{DATASET}{dataset}/y_{purpose}{EXTENSION}'\n",
    "\n",
    "    # Read and return of the list of labels\n",
    "    return load_output_information(path)"
   ]
  },
  {
   "cell_type": "markdown",
   "metadata": {},
   "source": [
    "### Dataset #1 - 118 Subjects, Interpolation"
   ]
  },
  {
   "cell_type": "markdown",
   "metadata": {},
   "source": [
    "This dataset is collected on 118 subjects and the collected gait data is annotated into steps.\n",
    "\n",
    "Following the findings that two-step data have a good performance in gait recognition, the gait samples were collected by dividing the gait curve into two continuous steps.\n",
    "\n",
    "Meanwhile, a single sample is interpolated into a fixed length of 128 (using Linear Interpolation function).\n",
    "\n",
    "In order to enlarge the scale of the dataset, there is a one-step overlap between two neighboring samples for all subjects. In this way, a total number of 36,844 gait samples are collected.\n",
    "\n",
    "The model will use 33,104 samples for training, and the rest 3,740 for test."
   ]
  },
  {
   "cell_type": "code",
   "execution_count": null,
   "metadata": {},
   "outputs": [
    {
     "name": "stdout",
     "output_type": "stream",
     "text": [
      "Archive:  datasets/dataset1.zip\n",
      "   creating: datasets/dataset1/Dataset #1/\n",
      "   creating: datasets/dataset1/Dataset #1/test/\n",
      "   creating: datasets/dataset1/Dataset #1/test/Inertial Signals/\n",
      "  inflating: datasets/dataset1/Dataset #1/test/Inertial Signals/test_acc_x.txt  \n",
      "  inflating: datasets/dataset1/Dataset #1/test/Inertial Signals/test_acc_y.txt  \n",
      "  inflating: datasets/dataset1/Dataset #1/test/Inertial Signals/test_acc_z.txt  \n",
      "  inflating: datasets/dataset1/Dataset #1/test/Inertial Signals/test_gyr_x.txt  \n",
      "  inflating: datasets/dataset1/Dataset #1/test/Inertial Signals/test_gyr_y.txt  \n",
      "  inflating: datasets/dataset1/Dataset #1/test/Inertial Signals/test_gyr_z.txt  \n",
      "  inflating: datasets/dataset1/Dataset #1/test/y_test.txt  \n",
      "   creating: datasets/dataset1/Dataset #1/train/\n",
      "   creating: datasets/dataset1/Dataset #1/train/Inertial Signals/\n",
      "  inflating: datasets/dataset1/Dataset #1/train/Inertial Signals/train_acc_x.txt  \n",
      "  inflating: datasets/dataset1/Dataset #1/train/Inertial Signals/train_acc_y.txt  \n",
      "  inflating: datasets/dataset1/Dataset #1/train/Inertial Signals/train_acc_z.txt  \n",
      "  inflating: datasets/dataset1/Dataset #1/train/Inertial Signals/train_gyr_x.txt  \n",
      "  inflating: datasets/dataset1/Dataset #1/train/Inertial Signals/train_gyr_y.txt  \n",
      "  inflating: datasets/dataset1/Dataset #1/train/Inertial Signals/train_gyr_z.txt  \n",
      "  inflating: datasets/dataset1/Dataset #1/train/y_train.txt  \n"
     ]
    }
   ],
   "source": [
    "!wget 'https://drive.usercontent.google.com/download?id=1yPNWWeubU9SjRKqW7H4-q0BaNsw57jWc&export=download&authuser=0&confirm=t&uuid=f7baf6b2-4139-40d1-b1c1-9ff21f5d696d&at=AIrpjvMKaZOBaOKN_juwrHVVepG3%3A1737392898709' -O datasets/dataset1.zip\n",
    "\n",
    "!unzip datasets/dataset1.zip -d datasets/dataset1\n",
    "\n",
    "!find datasets/dataset1 -mindepth 2 -type f -exec mv -t datasets/dataset1 {} +\n",
    "\n",
    "!rm -r datasets/dataset1/Dataset\\ \\#1\n",
    "\n",
    "!rm datasets/dataset1.zip"
   ]
  },
  {
   "cell_type": "code",
   "execution_count": 9,
   "metadata": {},
   "outputs": [],
   "source": [
    "# Train Data\n",
    "accelerometer_train = load_dev_gait_information(1, ACCELEROMETER, TRAIN)\n",
    "gyroscope_train = load_dev_gait_information(1, GYROSCOPE, TRAIN)\n",
    "output_train = load_purpose_output_information(1, TRAIN)\n",
    "\n",
    "# Test Data\n",
    "accelerometer_test = load_dev_gait_information(1, ACCELEROMETER, TEST)\n",
    "gyroscope_test = load_dev_gait_information(1, GYROSCOPE, TEST)\n",
    "output_test = load_purpose_output_information(1, TEST)\n",
    "\n",
    "# Store the first sample from accelerometer train dataset\n",
    "acc_step_template = accelerometer_train[0]"
   ]
  },
  {
   "cell_type": "markdown",
   "metadata": {},
   "source": [
    "### Dataset #2 - 20 Subjects, Interpolation"
   ]
  },
  {
   "cell_type": "markdown",
   "metadata": {},
   "source": [
    "This dataset is collected on 20 subjects and the collected gait data is annotated into steps.\n",
    "\n",
    "Following the findings that two-step data have a good performance in gait recognition, the gait samples were collected by dividing the gait curve into two continuous steps.\n",
    "\n",
    "Meanwhile, a single sample is interpolated into a fixed length of 128 (using Linear Interpolation function).\n",
    "\n",
    "As each subject in this dataset has a much larger amount of data as compared to the that in the previous dataset, there is no need to make overlap between the samples.\n",
    "\n",
    "Finally, a total number of 49,275 samples are collected, in which 44,339 samples are used for training, and the rest 4,936 for test."
   ]
  },
  {
   "cell_type": "code",
   "execution_count": 22,
   "metadata": {},
   "outputs": [
    {
     "name": "stdout",
     "output_type": "stream",
     "text": [
      "--2025-02-10 13:04:36--  https://drive.usercontent.google.com/download?id=1ET_YY8CYQTKQb1mvSd4EAQuv4OymEBAZ&export=download&authuser=0&confirm=t&uuid=04c82399-f8b8-454b-8654-b1ce8116a87a&at=AIrpjvPyNZnVBR50jsGa6xEFFbFg%3A1737750965202\n",
      "Resolving drive.usercontent.google.com (drive.usercontent.google.com)... 142.251.209.1, 2a00:1450:4002:411::2001\n",
      "Connecting to drive.usercontent.google.com (drive.usercontent.google.com)|142.251.209.1|:443... connected.\n",
      "HTTP request sent, awaiting response... 200 OK\n",
      "Length: 159996064 (153M) [application/octet-stream]\n",
      "Saving to: ‘datasets/dataset2.zip’\n",
      "\n",
      "datasets/dataset2.z 100%[===================>] 152,58M  8,25MB/s    in 21s     \n",
      "\n",
      "2025-02-10 13:04:58 (7,34 MB/s) - ‘datasets/dataset2.zip’ saved [159996064/159996064]\n",
      "\n",
      "Archive:  datasets/dataset2.zip\n",
      "   creating: datasets/dataset2/Dataset #2/\n",
      "   creating: datasets/dataset2/Dataset #2/test/\n",
      "   creating: datasets/dataset2/Dataset #2/test/Inertial Signals/\n",
      "  inflating: datasets/dataset2/Dataset #2/test/Inertial Signals/test_acc_x.txt  \n",
      "  inflating: datasets/dataset2/Dataset #2/test/Inertial Signals/test_acc_y.txt  \n",
      "  inflating: datasets/dataset2/Dataset #2/test/Inertial Signals/test_acc_z.txt  \n",
      "  inflating: datasets/dataset2/Dataset #2/test/Inertial Signals/test_gyr_x.txt  \n",
      "  inflating: datasets/dataset2/Dataset #2/test/Inertial Signals/test_gyr_y.txt  \n",
      "  inflating: datasets/dataset2/Dataset #2/test/Inertial Signals/test_gyr_z.txt  \n",
      "  inflating: datasets/dataset2/Dataset #2/test/y_test.txt  \n",
      "   creating: datasets/dataset2/Dataset #2/train/\n",
      "   creating: datasets/dataset2/Dataset #2/train/Inertial Signals/\n",
      "  inflating: datasets/dataset2/Dataset #2/train/Inertial Signals/train_acc_x.txt  \n",
      "  inflating: datasets/dataset2/Dataset #2/train/Inertial Signals/train_acc_y.txt  \n",
      "  inflating: datasets/dataset2/Dataset #2/train/Inertial Signals/train_acc_z.txt  \n",
      "  inflating: datasets/dataset2/Dataset #2/train/Inertial Signals/train_gyr_x.txt  \n",
      "  inflating: datasets/dataset2/Dataset #2/train/Inertial Signals/train_gyr_y.txt  \n",
      "  inflating: datasets/dataset2/Dataset #2/train/Inertial Signals/train_gyr_z.txt  \n",
      "  inflating: datasets/dataset2/Dataset #2/train/y_train.txt  \n"
     ]
    }
   ],
   "source": [
    "!wget 'https://drive.usercontent.google.com/download?id=1ET_YY8CYQTKQb1mvSd4EAQuv4OymEBAZ&export=download&authuser=0&confirm=t&uuid=04c82399-f8b8-454b-8654-b1ce8116a87a&at=AIrpjvPyNZnVBR50jsGa6xEFFbFg%3A1737750965202' -O datasets/dataset2.zip\n",
    "\n",
    "!unzip datasets/dataset2.zip -d datasets/dataset2\n",
    "\n",
    "!find datasets/dataset2 -mindepth 2 -type f -exec mv -t datasets/dataset2 {} +\n",
    "\n",
    "!rm -r datasets/dataset2/Dataset\\ \\#2\n",
    "\n",
    "!rm datasets/dataset2.zip"
   ]
  },
  {
   "cell_type": "code",
   "execution_count": 34,
   "metadata": {},
   "outputs": [],
   "source": [
    "# Train Data\n",
    "accelerometer_train = load_dev_gait_information(2, ACCELEROMETER, TRAIN)\n",
    "gyroscope_train = load_dev_gait_information(2, GYROSCOPE, TRAIN)\n",
    "output_train = load_purpose_output_information(2, TRAIN)\n",
    "\n",
    "# Test Data\n",
    "accelerometer_test = load_dev_gait_information(2, ACCELEROMETER, TEST)\n",
    "gyroscope_test = load_dev_gait_information(2, GYROSCOPE, TEST)\n",
    "output_test = load_purpose_output_information(2, TEST)"
   ]
  },
  {
   "cell_type": "markdown",
   "metadata": {},
   "source": [
    "### Dataset #3 - 118 Subjects, Time-fixed"
   ]
  },
  {
   "cell_type": "markdown",
   "metadata": {},
   "source": [
    "This dataset is collected on the same 118 subjects as in the first dataset.\n",
    "\n",
    "In contrast to the former, the gait curve is divided by using a fixed time length, instead of a step length. Exactly, a sample is collected with a time interval of 2.56 seconds. While the frequency of data collection is 50Hz, the length of each sample is also 128.\n",
    "\n",
    "Also, an overlap of 1.28 seconds is made to enlarge the dataset.\n",
    "\n",
    "A total number of 29,274 samples are collected, in which 26,283 samples are used for training, and the rest 2,991 for test."
   ]
  },
  {
   "cell_type": "code",
   "execution_count": 46,
   "metadata": {},
   "outputs": [
    {
     "name": "stdout",
     "output_type": "stream",
     "text": [
      "--2025-01-20 22:50:04--  https://drive.usercontent.google.com/download?id=137LunCBjT-dThC9p03eNbySb89D6XbFk&export=download&authuser=0&confirm=t&uuid=ac7b9995-8254-4313-8ab4-2061d2e33e2b&at=AIrpjvMGLkaXj2vYCXhyWXJvBtVH:1737413299469\n",
      "Resolving drive.usercontent.google.com (drive.usercontent.google.com)... 142.250.180.129, 2a00:1450:4002:403::2001\n",
      "Connecting to drive.usercontent.google.com (drive.usercontent.google.com)|142.250.180.129|:443... connected.\n",
      "HTTP request sent, awaiting response... 200 OK\n",
      "Length: 73796294 (70M) [application/octet-stream]\n",
      "Saving to: ‘datasets/dataset3.zip’\n",
      "\n",
      "datasets/dataset3.z 100%[===================>]  70,38M  9,56MB/s    in 7,7s    \n",
      "\n",
      "2025-01-20 22:50:14 (9,14 MB/s) - ‘datasets/dataset3.zip’ saved [73796294/73796294]\n",
      "\n",
      "Archive:  datasets/dataset3.zip\n",
      "   creating: datasets/dataset3/Dataset #3/\n",
      "   creating: datasets/dataset3/Dataset #3/Dataset #3/\n",
      "   creating: datasets/dataset3/Dataset #3/Dataset #3/test/\n",
      "   creating: datasets/dataset3/Dataset #3/Dataset #3/test/Inertial Signals/\n",
      "  inflating: datasets/dataset3/Dataset #3/Dataset #3/test/Inertial Signals/test_acc_x.txt  \n",
      "  inflating: datasets/dataset3/Dataset #3/Dataset #3/test/Inertial Signals/test_acc_y.txt  \n",
      "  inflating: datasets/dataset3/Dataset #3/Dataset #3/test/Inertial Signals/test_acc_z.txt  \n",
      "  inflating: datasets/dataset3/Dataset #3/Dataset #3/test/Inertial Signals/test_gyr_x.txt  \n",
      "  inflating: datasets/dataset3/Dataset #3/Dataset #3/test/Inertial Signals/test_gyr_y.txt  \n",
      "  inflating: datasets/dataset3/Dataset #3/Dataset #3/test/Inertial Signals/test_gyr_z.txt  \n",
      "  inflating: datasets/dataset3/Dataset #3/Dataset #3/test/y_test.txt  \n",
      "   creating: datasets/dataset3/Dataset #3/Dataset #3/train/\n",
      "   creating: datasets/dataset3/Dataset #3/Dataset #3/train/Inertial Signals/\n",
      "  inflating: datasets/dataset3/Dataset #3/Dataset #3/train/Inertial Signals/train_acc_x.txt  \n",
      "  inflating: datasets/dataset3/Dataset #3/Dataset #3/train/Inertial Signals/train_acc_y.txt  \n",
      "  inflating: datasets/dataset3/Dataset #3/Dataset #3/train/Inertial Signals/train_acc_z.txt  \n",
      "  inflating: datasets/dataset3/Dataset #3/Dataset #3/train/Inertial Signals/train_gyr_x.txt  \n",
      "  inflating: datasets/dataset3/Dataset #3/Dataset #3/train/Inertial Signals/train_gyr_y.txt  \n",
      "  inflating: datasets/dataset3/Dataset #3/Dataset #3/train/Inertial Signals/train_gyr_z.txt  \n",
      "  inflating: datasets/dataset3/Dataset #3/Dataset #3/train/y_train.txt  \n"
     ]
    }
   ],
   "source": [
    "!wget 'https://drive.usercontent.google.com/download?id=137LunCBjT-dThC9p03eNbySb89D6XbFk&export=download&authuser=0&confirm=t&uuid=ac7b9995-8254-4313-8ab4-2061d2e33e2b&at=AIrpjvMGLkaXj2vYCXhyWXJvBtVH:1737413299469' -O datasets/dataset3.zip\n",
    "\n",
    "!unzip datasets/dataset3.zip -d datasets/dataset3\n",
    "\n",
    "!find datasets/dataset3 -mindepth 2 -type f -exec mv -t datasets/dataset3 {} +\n",
    "\n",
    "!rm -r datasets/dataset3/Dataset\\ \\#3\n",
    "\n",
    "!rm datasets/dataset3.zip"
   ]
  },
  {
   "cell_type": "code",
   "execution_count": 5,
   "metadata": {},
   "outputs": [],
   "source": [
    "# Train Data\n",
    "accelerometer_train = load_dev_gait_information(3, ACCELEROMETER, TRAIN)\n",
    "gyroscope_train = load_dev_gait_information(3, GYROSCOPE, TRAIN)\n",
    "output_train = load_purpose_output_information(3, TRAIN)\n",
    "\n",
    "# Test Data\n",
    "accelerometer_test = load_dev_gait_information(3, ACCELEROMETER, TEST)\n",
    "gyroscope_test = load_dev_gait_information(3, GYROSCOPE, TEST)\n",
    "output_test = load_purpose_output_information(3, TEST)"
   ]
  },
  {
   "cell_type": "markdown",
   "metadata": {},
   "source": [
    "### Dataset #4 - 20 Subjects, Time-fixed"
   ]
  },
  {
   "cell_type": "markdown",
   "metadata": {},
   "source": [
    "This dataset is collected on the same 20 subjects as in the second dataset.\n",
    "\n",
    "In contrast to the former, the gait curve is divided by using a fixed time length, instead of a step length. Exactly, a sample is collected with a time interval of 2.56 seconds. While the frequency of data collection is 50Hz, the length of each sample is also 128.\n",
    "\n",
    "No overlap is made between the samples.\n",
    "\n",
    "Finally, a total number of 39,314 samples are collected, in which 35,373 samples are used for training, and the rest 3,941 for test."
   ]
  },
  {
   "cell_type": "code",
   "execution_count": null,
   "metadata": {},
   "outputs": [],
   "source": [
    "!wget 'https://drive.usercontent.google.com/download?id=1EA9gIHsGSAnkyjbYin8n9-1YTCzEMbXT&export=download&authuser=0&confirm=t&uuid=77855083-a344-4d10-a79d-3fa88d41a7fd&at=AIrpjvOfNth58sQSfgHkEq3tVHMu%3A1737752465177' -O datasets/dataset4.zip\n",
    "\n",
    "!unzip datasets/dataset4.zip -d datasets/dataset4\n",
    "\n",
    "!find datasets/dataset4 -mindepth 2 -type f -exec mv -t datasets/dataset4 {} +\n",
    "\n",
    "!rm -r datasets/dataset4/Dataset\\ \\#4\n",
    "\n",
    "!rm datasets/dataset4.zip"
   ]
  },
  {
   "cell_type": "code",
   "execution_count": null,
   "metadata": {},
   "outputs": [],
   "source": [
    "# Train Data\n",
    "accelerometer_train = load_dev_gait_information(4, ACCELEROMETER, TRAIN)\n",
    "gyroscope_train = load_dev_gait_information(4, GYROSCOPE, TRAIN)\n",
    "output_train = load_purpose_output_information(4, TRAIN)\n",
    "\n",
    "# Test Data\n",
    "accelerometer_test = load_dev_gait_information(4, ACCELEROMETER, TEST)\n",
    "gyroscope_test = load_dev_gait_information(4, GYROSCOPE, TEST)\n",
    "output_test = load_purpose_output_information(4, TEST)"
   ]
  },
  {
   "cell_type": "markdown",
   "metadata": {},
   "source": [
    "## Feature Treatment (Steps Extraction)"
   ]
  },
  {
   "cell_type": "markdown",
   "metadata": {},
   "source": [
    "The steps extraction procedure can be summarized as follows:\n",
    "\n",
    "* Signal preprocessing: upsampling, to obtain equal sampling frequency for all the considered samples, and filtering to remove high frequency noise.\n",
    "* Template extraction: the step will be isolated via template matching on the accelerometer magnitude due to its independence from the orientation of the glasses.\n",
    "* Template matching: given the template use a correlation function and search for the minima to detect the beginning and end of step samples.\n",
    "* Reference system normalization: since the sensors measurements are relative to their own reference system it is important to transform all the signals into a standard reference system for the whole duration of the step.\n",
    "* Sample normalization: at this point the extracted data points will not have the same length (since the walking speed can change) so they can't be fed into a convolutional neural network. To solve this the sequences are re-interpolated into fixed length signals."
   ]
  },
  {
   "cell_type": "markdown",
   "metadata": {},
   "source": [
    "### No treatment"
   ]
  },
  {
   "cell_type": "markdown",
   "metadata": {},
   "source": [
    "Before any treatment is made, the data is associated to the variables that will indeed go through the treatment phases.\n",
    "\n",
    "Besides this usage, this association could also be used if straigh foward network model testing is desired, so the models can be evaluated in performance before any treatment is done."
   ]
  },
  {
   "cell_type": "code",
   "execution_count": 56,
   "metadata": {},
   "outputs": [],
   "source": [
    "# Associate the loaded datasets with the final information input\n",
    "\n",
    "# Train data\n",
    "final_accelerometer_train = accelerometer_train\n",
    "final_gyroscope_train = gyroscope_train\n",
    "final_output_train = output_train\n",
    "\n",
    "# Test data\n",
    "final_accelerometer_test = accelerometer_test\n",
    "final_gyroscope_test = gyroscope_test\n",
    "final_output_test = output_test"
   ]
  },
  {
   "cell_type": "markdown",
   "metadata": {},
   "source": [
    "### Data Analysis"
   ]
  },
  {
   "cell_type": "markdown",
   "metadata": {},
   "source": [
    "Having the dataset information collected and converted, a function was defined to allow the visualization of a graphic structure of the magnitude of the signals of a couple of samples in order to better understand and, therefore, treat the data."
   ]
  },
  {
   "cell_type": "markdown",
   "metadata": {},
   "source": [
    "#### Process Definition"
   ]
  },
  {
   "cell_type": "code",
   "execution_count": 7,
   "metadata": {},
   "outputs": [],
   "source": [
    "# Update the font size of the graphs\n",
    "mpt.rcParams.update({\"font.size\":16})\n",
    "\n",
    "def show_sample(data: list, samples: int = 3) -> None:\n",
    "    '''\n",
    "    Show, in a matplot, the graphics of the magnitudes of the signals of a certain number of samples.\n",
    "\n",
    "    Args:\n",
    "        data (list): The list of data samples desired.\n",
    "        samples (int): The number of samples for visualization.\n",
    "    '''\n",
    "\n",
    "    # Calculate the number of rows for representation\n",
    "    rows = math.ceil(samples / 3)\n",
    "\n",
    "    # Create the plot for graphical showing\n",
    "    _, axs = plt.subplots(rows, 3, figsize=(15, 5 * rows))\n",
    "\n",
    "    # Iterate over all the rows and collumns\n",
    "    for row in range(rows):\n",
    "        for col in range(3):\n",
    "\n",
    "            # Grab the desired sample\n",
    "            sample = data[row + col]\n",
    "\n",
    "            # Grab the axe for printing\n",
    "            if rows != 1:\n",
    "                axe = axs[row][col]\n",
    "            else:\n",
    "                axe = axs[col]\n",
    "\n",
    "            # Create its priting plot\n",
    "            axe.plot(np.linalg.norm(sample, axis=1))\n",
    "            axe.set_xlabel(\"Sample number\")\n",
    "            axe.set_ylabel(\"Sample amplitude\")\n",
    "\n",
    "    # Print the final desired plot in a tight layout\n",
    "    plt.tight_layout()"
   ]
  },
  {
   "cell_type": "markdown",
   "metadata": {},
   "source": [
    "#### Data Analysis"
   ]
  },
  {
   "cell_type": "code",
   "execution_count": 72,
   "metadata": {},
   "outputs": [
    {
     "data": {
      "image/png": "[encoded data removed]",
      "text/plain": [
       "<Figure size 1500x500 with 3 Axes>"
      ]
     },
     "metadata": {},
     "output_type": "display_data"
    },
    {
     "data": {
      "image/png": "[encoded data removed]",
      "text/plain": [
       "<Figure size 1500x500 with 3 Axes>"
      ]
     },
     "metadata": {},
     "output_type": "display_data"
    }
   ],
   "source": [
    "# Print accelerometer samples\n",
    "show_sample(final_accelerometer_train)\n",
    "\n",
    "# Print gyroscope samples\n",
    "show_sample(final_gyroscope_train)"
   ]
  },
  {
   "cell_type": "markdown",
   "metadata": {},
   "source": [
    "### 0. Signal Concatenation"
   ]
  },
  {
   "cell_type": "markdown",
   "metadata": {},
   "source": [
    "#### Process Definition"
   ]
  },
  {
   "cell_type": "code",
   "execution_count": 10,
   "metadata": {},
   "outputs": [],
   "source": [
    "def concatenate_samples(data: list, labels: list) -> tuple[list, list]:\n",
    "    '''\n",
    "    Concatenate followed up samples to increase sample size.\n",
    "\n",
    "    Args:\n",
    "        data (list): The list of collected samples desired.\n",
    "        labels (list): The list of labels for the samples.\n",
    "\n",
    "    Returns:\n",
    "        tuple[list, list]: The tuple of list of concatenated samples per subject and new labels for those samples.\n",
    "    '''\n",
    "\n",
    "    # Create the list to store the new samples\n",
    "    new_data = []\n",
    "\n",
    "    # Create the list to store the new labels\n",
    "    new_labels = []\n",
    "\n",
    "    # Create a dictionary for faster identification of subjects sample location\n",
    "    indexes = dict()\n",
    "\n",
    "    # Iterate over all the labels and their indexes\n",
    "    for i, label in enumerate(labels):\n",
    "\n",
    "        # Check if this label has already been added\n",
    "        if label in indexes.keys():\n",
    "\n",
    "            # Append the index to the label entry\n",
    "            indexes[label].append(i)\n",
    "\n",
    "        else:\n",
    "\n",
    "            # Create a list on the label entry\n",
    "            indexes[label] = [i]\n",
    "\n",
    "    # Iterate over all the labels\n",
    "    for label in indexes.keys():\n",
    "\n",
    "        # Append the label to the new label list\n",
    "        new_labels.append(label)\n",
    "\n",
    "        # Create the list which will store the new sample\n",
    "        sample = []\n",
    "\n",
    "        # Iterate over all the indexes of a label\n",
    "        for i, index in enumerate(indexes[label]):\n",
    "\n",
    "            # Check if it is a consecutive sample\n",
    "            if i % 2 == 0:\n",
    "                \n",
    "                # Append the old sample to the new sample\n",
    "                sample.append(data[index])\n",
    "\n",
    "        # Convert the sample to be consecutive\n",
    "        sample = np.array(sample).reshape(-1, 3)\n",
    "\n",
    "        # Add the consecutive sample to the new data list\n",
    "        new_data.append(sample)\n",
    "\n",
    "    # Return the new list of samples and labels\n",
    "    return new_data, new_labels"
   ]
  },
  {
   "cell_type": "markdown",
   "metadata": {},
   "source": [
    "#### Application to the data"
   ]
  },
  {
   "cell_type": "code",
   "execution_count": 11,
   "metadata": {},
   "outputs": [],
   "source": [
    "# Concatenation of train data\n",
    "final_accelerometer_train, _ = concatenate_samples(final_accelerometer_train, final_output_train)\n",
    "final_gyroscope_train, final_output_train = concatenate_samples(final_gyroscope_train, final_output_train)\n",
    "\n",
    "# Concatenation of test data\n",
    "final_accelerometer_test, _ = concatenate_samples(final_accelerometer_test, final_output_test)\n",
    "final_gyroscope_test, final_output_test = concatenate_samples(final_gyroscope_test, final_output_test)"
   ]
  },
  {
   "cell_type": "markdown",
   "metadata": {},
   "source": [
    "### 1. Signal Preprocessing"
   ]
  },
  {
   "cell_type": "markdown",
   "metadata": {},
   "source": [
    "#### Upsampling"
   ]
  },
  {
   "cell_type": "markdown",
   "metadata": {},
   "source": [
    "##### Process Definition"
   ]
  },
  {
   "cell_type": "code",
   "execution_count": 12,
   "metadata": {},
   "outputs": [],
   "source": [
    "def CS_interpolation_sample(sample: np.array, fs_original: int = 50, fs_target: int = 200) -> np.array:\n",
    "    '''\n",
    "    Upsample a sample to a higher frequency using cubic spline interpolation.\n",
    "\n",
    "    Args:\n",
    "        sample (np.array): The original sample.\n",
    "        fs_original (int): Original sampling frequency.\n",
    "        fs_target (int): Target sampling frequency.\n",
    "\n",
    "    Returns:\n",
    "        np.array: The upsampled sample.\n",
    "    '''\n",
    "\n",
    "    # Calculate the linear space of the original sample\n",
    "    x = np.linspace(0, (len(sample) - 1) / fs_original, len(sample))\n",
    "\n",
    "    # Create a cubic spline based on the original sample\n",
    "    cs = CubicSpline(x, sample)\n",
    "\n",
    "    # Calculate the linear space of the target sample\n",
    "    new_x = np.linspace(0, (len(sample) - 1) / fs_original, len(sample) * (fs_target // fs_original))\n",
    "\n",
    "    # Calculate the interpolated sample\n",
    "    interplotated_sample = cs(new_x)\n",
    "\n",
    "    # Return the calculated interpolated sample\n",
    "    return interplotated_sample\n",
    "\n",
    "def CS_interpolation_data(data: list, fs_original: int = 50, fs_target: int = 200) -> list:\n",
    "    '''\n",
    "    Upsample a list of sample to a higher frequency using cubic spline interpolation.\n",
    "\n",
    "    Args:\n",
    "        data (list): The list of samples.\n",
    "        fs_original (int): Original sampling frequency.\n",
    "        fs_target (int): Target sampling frequency.\n",
    "\n",
    "    Returns:\n",
    "        list: The list of upsampled samples.\n",
    "    '''\n",
    "\n",
    "    # Return the list of upsampled samples\n",
    "    return [CS_interpolation_sample(sample, fs_original, fs_target) for sample in data]"
   ]
  },
  {
   "cell_type": "markdown",
   "metadata": {},
   "source": [
    "##### Application to the data"
   ]
  },
  {
   "cell_type": "code",
   "execution_count": 13,
   "metadata": {},
   "outputs": [],
   "source": [
    "# Upsampling of the accelerometer data\n",
    "final_accelerometer_train = CS_interpolation_data(final_accelerometer_train)\n",
    "final_accelerometer_test = CS_interpolation_data(final_accelerometer_test)\n",
    "\n",
    "# Upsampling of the gyroscope data\n",
    "final_gyroscope_train = CS_interpolation_data(final_gyroscope_train)\n",
    "final_gyroscope_test = CS_interpolation_data(final_gyroscope_test)"
   ]
  },
  {
   "cell_type": "markdown",
   "metadata": {},
   "source": [
    "#### Filtering"
   ]
  },
  {
   "cell_type": "markdown",
   "metadata": {},
   "source": [
    "##### Process Definition"
   ]
  },
  {
   "cell_type": "code",
   "execution_count": 603,
   "metadata": {},
   "outputs": [],
   "source": [
    "def fir_filter_sample(sample: np.array, frequency: int = 50, cutoff_hz: int = 40, ripple_db: int = 60) -> np.array:\n",
    "    '''\n",
    "    Applies a low-pass FIR filter to a sample.\n",
    "    \n",
    "    Args:\n",
    "        sample (np.array): The sample to filter.\n",
    "        frequency (int): The sampling frequency of the sample.\n",
    "        cutoff_hz (int): The cutoff frequency in Hz.\n",
    "        ripple_db (int): The ripple in the passband in decibels.\n",
    "        \n",
    "    Returns:\n",
    "        np.array: The filtered sample.\n",
    "    '''\n",
    "\n",
    "    # Calculate the Nyquist rate\n",
    "    nyquist_rate = 0.5 * frequency\n",
    "\n",
    "    # Normalize the cutoff frequency by the Nyquist rate\n",
    "    normalized_cutoff = cutoff_hz / nyquist_rate\n",
    "\n",
    "    # Calculate the transition width\n",
    "    width = 5 / nyquist_rate\n",
    "    \n",
    "    # Calculate the filter order and beta using the Kaiser window method\n",
    "    N, beta = kaiserord(ripple_db, width)\n",
    "    \n",
    "    # Design the FIR filter using the Kaiser window\n",
    "    taps = firwin(N, normalized_cutoff, window=(\"kaiser\", beta))\n",
    "\n",
    "    # Calculate the symmetric padding\n",
    "    pad = len(taps) // 2\n",
    "    \n",
    "    # Apply the FIR filter\n",
    "    filtered_data = lfilter(taps, 1, sample)\n",
    "    \n",
    "    # Return the calculated filtered data with the symmetric padding removed\n",
    "    return np.array(filtered_data[pad:-pad])\n",
    "\n",
    "def fir_filter_data(data: list, frequency: int = 50, cutoff_hz: int = 40, ripple_db: int = 60) -> list:\n",
    "    '''\n",
    "    Applies a low-pass FIR filter to a list of samples.\n",
    "    \n",
    "    Args:\n",
    "        sample (list): The list of samples to filter.\n",
    "        frequency (int): The sampling frequency of the sample.\n",
    "        cutoff_hz (int): The cutoff frequency in Hz.\n",
    "        ripple_db (int): The ripple in the passband in decibels.\n",
    "        \n",
    "    Returns:\n",
    "        list: The list of filtered samples.\n",
    "    '''\n",
    "\n",
    "    # Return the list of filtered samples\n",
    "    return [fir_filter_sample(sample, frequency, cutoff_hz, ripple_db) for sample in data]"
   ]
  },
  {
   "cell_type": "markdown",
   "metadata": {},
   "source": [
    "##### Application to the data"
   ]
  },
  {
   "cell_type": "code",
   "execution_count": 699,
   "metadata": {},
   "outputs": [],
   "source": [
    "SAMPLING_FREQ = 200\n",
    "\n",
    "# Filtering of the accelerometer data\n",
    "final_accelerometer_train = fir_filter_data(final_accelerometer_train, SAMPLING_FREQ)\n",
    "final_accelerometer_test = fir_filter_data(final_accelerometer_test, SAMPLING_FREQ)\n",
    "\n",
    "# Filtering of the gyroscope data\n",
    "final_gyroscope_train = fir_filter_data(final_gyroscope_train, SAMPLING_FREQ)\n",
    "final_gyroscope_test = fir_filter_data(final_gyroscope_test, SAMPLING_FREQ)"
   ]
  },
  {
   "cell_type": "markdown",
   "metadata": {},
   "source": [
    "### 2. Template Extraction"
   ]
  },
  {
   "cell_type": "markdown",
   "metadata": {},
   "source": [
    "#### Process Definition"
   ]
  },
  {
   "cell_type": "code",
   "execution_count": 14,
   "metadata": {},
   "outputs": [],
   "source": [
    "def compute_magnitude_sample(sample: np.array) -> np.array:\n",
    "    '''\n",
    "    Compute the magnitude of a sample.\n",
    "\n",
    "    Args:\n",
    "        sample (np.array): The sample to calculate the magnitude of.\n",
    "\n",
    "    Returns:\n",
    "        np.array: The calculated magnitude of the sample.\n",
    "    '''\n",
    "\n",
    "    # Return and calculate the magnitude of the sample\n",
    "    return np.linalg.norm(sample, axis=1)\n",
    "\n",
    "def compute_magnitude_data(data: list) -> list:\n",
    "    '''\n",
    "    Compute the magnitude of the samples of a list of samples.\n",
    "\n",
    "    Args:\n",
    "        data (list): The list of samples.\n",
    "\n",
    "    Returns:\n",
    "        list: The list of samples in magnitudes.\n",
    "    '''\n",
    "\n",
    "    # Return and calculate the magnitude of the given sample list\n",
    "    return [compute_magnitude_sample(sample) for sample in data]\n",
    "\n",
    "def corr_distance(u: np.array, v: np.array) -> float:\n",
    "    '''\n",
    "    Calculate the correlation between two given samples.\n",
    "\n",
    "    Args:\n",
    "        u (np.array): The first sample to calculate the correlation with.\n",
    "        v (np.array): The second sample to calculate the correlation with.\n",
    "\n",
    "    Returns:\n",
    "        float: The calculated correlation of the given samples.\n",
    "    '''\n",
    "\n",
    "    # Calculate the mean for the first sample\n",
    "    u_hat = np.mean(u)\n",
    "\n",
    "    # Calculate the mean for the second sample\n",
    "    v_hat = np.mean(v)\n",
    "\n",
    "    # Normalize both samples with their means\n",
    "    u = u - u_hat\n",
    "    v = v - v_hat\n",
    "\n",
    "    # Calculate the correlation between the two samples\n",
    "    corr = 1 - np.dot(u, v) / np.linalg.norm(u) * np.linalg.norm(v)\n",
    "\n",
    "    # Return the calculated correlation\n",
    "    return corr"
   ]
  },
  {
   "cell_type": "code",
   "execution_count": 21,
   "metadata": {},
   "outputs": [],
   "source": [
    "def compute_magnitude(data: list) -> list:\n",
    "    '''\n",
    "    Compute the magnitude of the samples of a list of samples.\n",
    "\n",
    "    Args:\n",
    "        data (list): The list of samples.\n",
    "\n",
    "    Returns:\n",
    "        list: The list of samples in magnitudes.\n",
    "    '''\n",
    "\n",
    "    # Return and calculate the magnitude of the given sample list\n",
    "    return [np.linalg.norm(sample, axis=1) for sample in data]\n",
    "\n",
    "# correlation distance computation\n",
    "def corr_distance(u: np.array, v: np.array) -> float:\n",
    "    '''\n",
    "    Calculate the correlation between two given samples.\n",
    "\n",
    "    Args:\n",
    "        u (np.array): The first sample to calculate the correlation with.\n",
    "        v (np.array): The second sample to calculate the correlation with.\n",
    "\n",
    "    Returns:\n",
    "        float: The calculated correlation of the given samples.\n",
    "    '''\n",
    "\n",
    "    # Calculate the mean for the first sample\n",
    "    u_hat = np.mean(u)\n",
    "\n",
    "    # Calculate the mean for the second sample\n",
    "    v_hat = np.mean(v)\n",
    "\n",
    "    # Normalize both samples with their means\n",
    "    u = u - u_hat\n",
    "    v = v - v_hat\n",
    "\n",
    "    # Calculate the correlation between the two samples\n",
    "    corr = 1 - np.dot(u, v) / np.linalg.norm(u) * np.linalg.norm(v)\n",
    "\n",
    "    # Return the calculated correlation\n",
    "    return corr\n",
    "\n",
    "def parse_indexes(min_indexes: np.array, corrs: np.array, half_window: int = 20) -> np.array:\n",
    "    '''\n",
    "    Check if the minimum indexes given are unique minimas in a given window size.\n",
    "\n",
    "    Args:\n",
    "        min_indexes (np.array): An array of found minima indexes.\n",
    "        corrs (np.array): The array of calculated correlation indexes for the sample where the minimas were found.\n",
    "        half_window (int): Half the size of the minimum search window.\n",
    "\n",
    "    Returns:\n",
    "        np.array: The updated minima array.\n",
    "    '''\n",
    "\n",
    "    # checking if there is another minimum in a window of size 2*half_window, if so\n",
    "    # ignore the current minimum\n",
    "\n",
    "    # Create the array of parsed indexes\n",
    "    parsed_indexes = []\n",
    "\n",
    "    # For every minima index check if there is another minima in the given window\n",
    "    for index in min_indexes:\n",
    "\n",
    "        # In case there is another minima, ignore the current one\n",
    "        if min(half_window, index) == np.argmin(corrs[max(index-half_window, 0):min(index+half_window, len(corrs))]):\n",
    "            parsed_indexes.append(index)\n",
    "\n",
    "    # Return the calculated unique minima's array\n",
    "    return np.array(parsed_indexes)\n",
    "\n",
    "def compute_template(magnitude_sample: np.array, template_initialization: np.array = None, first_sample_height: float = 12, corr_thr: float = 0.5, window_size: int = 25, frequency: int = 50, ripple_db: int = 60, cutoff_hz: int = 3):\n",
    "    '''\n",
    "    Compute the template of a step given a magnitude sample.\n",
    "\n",
    "    Args:\n",
    "        magnitude_sample (np.array): The magnitude sample for template computation.\n",
    "        template_initialization (np.array): The template_initialization for template computation.\n",
    "        first_sample_height (float): The value for the first peak.\n",
    "        corr_thr (float): The correlation threshold for template association.\n",
    "        window_size (int): The size of the search window for template correlation.\n",
    "        frequency (int): The sampling frequency of the sample.\n",
    "        cutoff_hz (int): The cutoff frequency in Hz.\n",
    "        ripple_db (int): The ripple in the passband in decibels.\n",
    "\n",
    "    Returns:\n",
    "        np.array: The calculated template for a step.\n",
    "    '''\n",
    "\n",
    "    # Calculate the first index where there is a peak\n",
    "    first_index = np.where(magnitude_sample > first_sample_height)[0][0]\n",
    "\n",
    "    # Cut everything before the first peak (transitory information)\n",
    "    processed_sample = magnitude_sample[first_index:].copy()\n",
    "\n",
    "    # Normalize the signal to improve detection\n",
    "    processed_sample -= processed_sample.mean()\n",
    "\n",
    "    # Filter with low cutoff frequency to find where to begin the template\n",
    "    filtered_sample = fir_filter_sample(processed_sample, frequency, cutoff_hz, ripple_db)\n",
    "\n",
    "    # Find the second minima of the signal (more stable)\n",
    "    minima_ind = argrelmin(filtered_sample)[0][1]\n",
    "\n",
    "    # Search for the actual minima in a one second time window in the original signal\n",
    "    actual_minima = np.argmin(processed_sample[minima_ind:minima_ind + frequency]) + minima_ind\n",
    "\n",
    "    # Calculate half of the template size\n",
    "    half_size = frequency // 2\n",
    "\n",
    "    # If there is no preinitialized template, select a one second window around the minima\n",
    "    if template_initialization is None:\n",
    "        template = processed_sample[actual_minima - half_size:actual_minima + half_size]\n",
    "    else:\n",
    "        template = template_initialization.copy()\n",
    "\n",
    "    # Define the starting window center\n",
    "    i = half_size\n",
    "\n",
    "    # Compute the correlation function to detect steps\n",
    "    while i < len(processed_sample) - window_size - half_size:\n",
    "\n",
    "        # Create an array to store correlation values\n",
    "        corrs = []\n",
    "\n",
    "        # Check all the sub-windows inside the main window\n",
    "        for j in range(i, i + window_size):\n",
    "\n",
    "            # Get a sub-window of samples\n",
    "            sub_sample = processed_sample[j - half_size:j + half_size]\n",
    "\n",
    "            # Delta function to check if the sample is worth considering\n",
    "            delta = lambda x: np.max(x) - np.min(x)\n",
    "\n",
    "            # Check if this is actual walking data or just noise\n",
    "            if delta(sub_sample) < delta(template) / 10:\n",
    "\n",
    "                # Set correlation to ignore this sample\n",
    "                corr = 1\n",
    "\n",
    "            else:\n",
    "\n",
    "                # Compute the correlation between the sample and the current template\n",
    "                corr = corr_distance(template, sub_sample)\n",
    "\n",
    "            # Add the computed correlation to the list\n",
    "            corrs.append(corr)\n",
    "\n",
    "        # Convert array into np.array\n",
    "        corrs = np.array(corrs)\n",
    "\n",
    "        # Search for samples whose correlation is smaller than the threshold\n",
    "        search_indexes = np.where(corrs < corr_thr)[0]\n",
    "\n",
    "        # Store the correlation values of those samples\n",
    "        searched_values = corrs[search_indexes]\n",
    "\n",
    "        # Look for the first minina in the correlation vector\n",
    "        minima = argrelmin(searched_values)[0]\n",
    "\n",
    "        # Store the indexes of the minima\n",
    "        min_indexes = search_indexes[minima]\n",
    "        \n",
    "        # Discard minima that are not the absolute minima within a small window (stability)\n",
    "        min_indexes = parse_indexes(min_indexes, corrs)\n",
    "\n",
    "        # If no minima found or not enough, break the loop\n",
    "        if len(min_indexes) < 2:\n",
    "            break\n",
    "        \n",
    "        # Move the window forward based on the detected minima\n",
    "        i += min_indexes[1]\n",
    "        \n",
    "        # Update the template by a weighted average of the old template and the new signal\n",
    "        template = 0.9 * template + 0.1 * processed_sample[i - half_size:i + half_size]\n",
    "    \n",
    "    # Return the obtained template\n",
    "    return template"
   ]
  },
  {
   "cell_type": "markdown",
   "metadata": {},
   "source": [
    "#### Application to the data"
   ]
  },
  {
   "cell_type": "code",
   "execution_count": 18,
   "metadata": {},
   "outputs": [],
   "source": [
    "# Upsample the template sample\n",
    "upsample_template = normalize_length([acc_step_template], 400)[0]\n",
    "\n",
    "# Caculate the magnitude of the template sample\n",
    "magnitude_template = compute_magnitude_sample(acc_step_template)\n",
    "\n",
    "# Exctract the template from the sample\n",
    "step_template = magnitude_template[0:200]"
   ]
  },
  {
   "cell_type": "markdown",
   "metadata": {},
   "source": [
    "### 3. Template Matching"
   ]
  },
  {
   "cell_type": "markdown",
   "metadata": {},
   "source": [
    "#### Continuous Signal"
   ]
  },
  {
   "cell_type": "markdown",
   "metadata": {},
   "source": [
    "##### Process Definition"
   ]
  },
  {
   "cell_type": "code",
   "execution_count": 57,
   "metadata": {},
   "outputs": [],
   "source": [
    "def correct_missing_indexes(min_indexes):\n",
    "    # getting the median step length\n",
    "    median = np.median(np.diff(min_indexes))\n",
    "    start_index = min_indexes[0]\n",
    "    indexes = [start_index]\n",
    "    for min_index in min_indexes[1:]:\n",
    "        # checking if the step interval is greater than 1.5 times the median, if so\n",
    "        # the interval is divided in round(len(interval) / median intervals)\n",
    "        if  (min_index - start_index) > 1.5 * median:\n",
    "            n_missed = int(np.round((min_index - start_index) / median))\n",
    "            for j in range(1, n_missed):\n",
    "                indexes.append(\n",
    "                    int(start_index + j * np.round((min_index - start_index) / n_missed))\n",
    "                )\n",
    "        indexes.append(min_index)\n",
    "        start_index = min_index\n",
    "    return np.array(indexes)\n",
    "\n",
    "def count_steps(signal: np.array, template: np.array, thr: float = 0.45) -> list:\n",
    "    '''\n",
    "    Calculate the step indexes on a sample, given a step template.\n",
    "\n",
    "    Args:\n",
    "        signal (np.array): The sample to extract the steps from.\n",
    "        template (np.array): The template for a step.\n",
    "        thr (float): The threshold for the correlation between the sample and the template.\n",
    "\n",
    "    Returns:\n",
    "        list: The array of step indexes from the sample.\n",
    "    '''\n",
    "\n",
    "    # Calculate the template size\n",
    "    template_size = len(template)\n",
    "\n",
    "    # Normalize the signal with the signal mean\n",
    "    signal -= signal.mean()\n",
    "\n",
    "    # Create the array to store the correlation of the obtained samples\n",
    "    corrs = []\n",
    "\n",
    "    # Iterates over all the possible samples within a signal\n",
    "    for i in range(len(signal) - template_size):\n",
    "        \n",
    "        # Get the sample wanted to test for matching\n",
    "        sample = signal[i:i+template_size]\n",
    "\n",
    "        # Delta function to calculate worthness of verification\n",
    "        delta = lambda x: np.max(x) - np.min(x)\n",
    "\n",
    "        # Check if the sample is worth checking\n",
    "        if delta(sample) < delta(template) / 2:\n",
    "\n",
    "            # Set correlation to ignore this sample\n",
    "            corr = 1\n",
    "\n",
    "        else:\n",
    "\n",
    "            # Calculate the correlation of the sample with the template\n",
    "            corr = corr_distance(template, sample)\n",
    "\n",
    "        # Append the calculate correlation\n",
    "        corrs.append(corr)\n",
    "\n",
    "    # Convert correlation array into np.array\n",
    "    corrs = np.array(corrs)\n",
    "\n",
    "    # Same as above, finding the indexes of the minima and removing bad ones\n",
    "    search_indexes = np.where(corrs < thr)\n",
    "    searched_values = corrs[search_indexes]\n",
    "    minima = argrelmin(searched_values)[0]\n",
    "    search_indexes = search_indexes[0]\n",
    "    min_indexes = search_indexes[minima]\n",
    "    min_indexes = parse_indexes(min_indexes, corrs)\n",
    "\n",
    "    # this function should be used only if you are sure that a person kept walking,\n",
    "    # in this way you can make sure that even if a step is not detected a good\n",
    "    # estimate of the step is still obtained\n",
    "    new_indexes = sorted(correct_missing_indexes(min_indexes))\n",
    "\n",
    "    # Return the list of calculated step indexes\n",
    "    return new_indexes\n",
    "\n",
    "def count_steps_all(magnitude_data: np.array, template: np.array, thr: float = 0.45) -> list:\n",
    "    '''\n",
    "    Calculate the step indexes on all the samples collected by the accelerometer, given a step template.\n",
    "\n",
    "    Args:\n",
    "        magnitude_data (np.array): The array of the magnitude of all samples collected by the accelerometer.\n",
    "        template (np.array): The template used for step matching.\n",
    "        thr (float): The correlation threshold for template matching.\n",
    "\n",
    "    Returns:\n",
    "        list: An array of the cycles of all the samples collected.\n",
    "    '''\n",
    "\n",
    "    # Build and return the array of cycle indexes of all samples\n",
    "    return [count_steps(signal, template, thr) for signal in magnitude_data]\n",
    "\n",
    "def get_cycles(cycles: list, data: np.array) -> list:\n",
    "    '''\n",
    "    Transform the samples to have only steps in them.\n",
    "\n",
    "    Args:\n",
    "        cycles (list): The array of step cycles.\n",
    "        data (np.array): The array of data sampled from a device.\n",
    "\n",
    "    Returns:\n",
    "        list: The array of the resampled data.\n",
    "    '''\n",
    "\n",
    "    # Create an array which is gonna store the new data\n",
    "    new_data = []\n",
    "\n",
    "    # Iterate over all the samples contained in the data\n",
    "    for sample_i in range(len(data)):\n",
    "\n",
    "        # Create the array which is gonna store the new signal\n",
    "        pieces = []\n",
    "\n",
    "        # Define the sample for this iteration\n",
    "        signal = data[sample_i]\n",
    "        cycle = cycles[sample_i]\n",
    "\n",
    "        # Iterate over all the steps\n",
    "        for step_i in range(len(cycle) - 1):\n",
    "\n",
    "            # Add the step exctracted from the sample to the final sample\n",
    "            pieces.append(signal[cycle[step_i]:cycle[step_i+1]].reshape((cycle[step_i+1] - cycle[step_i], -1)))\n",
    "\n",
    "        # Append the steps collected to the new data\n",
    "        new_data.append(pieces)\n",
    "\n",
    "    # Convert and return the new data into np.array\n",
    "    return new_data"
   ]
  },
  {
   "cell_type": "markdown",
   "metadata": {},
   "source": [
    "##### Application to the data"
   ]
  },
  {
   "cell_type": "code",
   "execution_count": 64,
   "metadata": {},
   "outputs": [
    {
     "name": "stdout",
     "output_type": "stream",
     "text": [
      "86528\n"
     ]
    }
   ],
   "source": [
    "print(len(final_accelerometer_train[0]))"
   ]
  },
  {
   "cell_type": "code",
   "execution_count": 59,
   "metadata": {},
   "outputs": [
    {
     "name": "stderr",
     "output_type": "stream",
     "text": [
      "/home/guinucool/.local/lib/python3.10/site-packages/numpy/core/fromnumeric.py:3504: RuntimeWarning: Mean of empty slice.\n",
      "  return _methods._mean(a, axis=axis, dtype=dtype,\n",
      "/home/guinucool/.local/lib/python3.10/site-packages/numpy/core/_methods.py:129: RuntimeWarning: invalid value encountered in scalar divide\n",
      "  ret = ret.dtype.type(ret / rcount)\n"
     ]
    },
    {
     "ename": "IndexError",
     "evalue": "index 0 is out of bounds for axis 0 with size 0",
     "output_type": "error",
     "traceback": [
      "\u001b[0;31m---------------------------------------------------------------------------\u001b[0m",
      "\u001b[0;31mIndexError\u001b[0m                                Traceback (most recent call last)",
      "Cell \u001b[0;32mIn[59], line 6\u001b[0m\n\u001b[1;32m      4\u001b[0m \u001b[38;5;66;03m# Calculate the step cycles of every sample\u001b[39;00m\n\u001b[1;32m      5\u001b[0m cycles \u001b[38;5;241m=\u001b[39m count_steps_all(magnitude, step_template)\n\u001b[0;32m----> 6\u001b[0m cycles_test \u001b[38;5;241m=\u001b[39m \u001b[43mcount_steps_all\u001b[49m\u001b[43m(\u001b[49m\u001b[43mmagnitude_test\u001b[49m\u001b[43m,\u001b[49m\u001b[43m \u001b[49m\u001b[43mstep_template\u001b[49m\u001b[43m)\u001b[49m\n\u001b[1;32m      8\u001b[0m \u001b[38;5;66;03m# Resample the accelerometer data for including only steps\u001b[39;00m\n\u001b[1;32m      9\u001b[0m steps_accelerometer_train \u001b[38;5;241m=\u001b[39m get_cycles(cycles, final_accelerometer_train)\n",
      "Cell \u001b[0;32mIn[57], line 97\u001b[0m, in \u001b[0;36mcount_steps_all\u001b[0;34m(magnitude_data, template, thr)\u001b[0m\n\u001b[1;32m     84\u001b[0m \u001b[38;5;250m\u001b[39m\u001b[38;5;124;03m'''\u001b[39;00m\n\u001b[1;32m     85\u001b[0m \u001b[38;5;124;03mCalculate the step indexes on all the samples collected by the accelerometer, given a step template.\u001b[39;00m\n\u001b[1;32m     86\u001b[0m \n\u001b[0;32m   (...)\u001b[0m\n\u001b[1;32m     93\u001b[0m \u001b[38;5;124;03m    list: An array of the cycles of all the samples collected.\u001b[39;00m\n\u001b[1;32m     94\u001b[0m \u001b[38;5;124;03m'''\u001b[39;00m\n\u001b[1;32m     96\u001b[0m \u001b[38;5;66;03m# Build and return the array of cycle indexes of all samples\u001b[39;00m\n\u001b[0;32m---> 97\u001b[0m \u001b[38;5;28;01mreturn\u001b[39;00m [count_steps(signal, template, thr) \u001b[38;5;28;01mfor\u001b[39;00m signal \u001b[38;5;129;01min\u001b[39;00m magnitude_data]\n",
      "Cell \u001b[0;32mIn[57], line 97\u001b[0m, in \u001b[0;36m<listcomp>\u001b[0;34m(.0)\u001b[0m\n\u001b[1;32m     84\u001b[0m \u001b[38;5;250m\u001b[39m\u001b[38;5;124;03m'''\u001b[39;00m\n\u001b[1;32m     85\u001b[0m \u001b[38;5;124;03mCalculate the step indexes on all the samples collected by the accelerometer, given a step template.\u001b[39;00m\n\u001b[1;32m     86\u001b[0m \n\u001b[0;32m   (...)\u001b[0m\n\u001b[1;32m     93\u001b[0m \u001b[38;5;124;03m    list: An array of the cycles of all the samples collected.\u001b[39;00m\n\u001b[1;32m     94\u001b[0m \u001b[38;5;124;03m'''\u001b[39;00m\n\u001b[1;32m     96\u001b[0m \u001b[38;5;66;03m# Build and return the array of cycle indexes of all samples\u001b[39;00m\n\u001b[0;32m---> 97\u001b[0m \u001b[38;5;28;01mreturn\u001b[39;00m [\u001b[43mcount_steps\u001b[49m\u001b[43m(\u001b[49m\u001b[43msignal\u001b[49m\u001b[43m,\u001b[49m\u001b[43m \u001b[49m\u001b[43mtemplate\u001b[49m\u001b[43m,\u001b[49m\u001b[43m \u001b[49m\u001b[43mthr\u001b[49m\u001b[43m)\u001b[49m \u001b[38;5;28;01mfor\u001b[39;00m signal \u001b[38;5;129;01min\u001b[39;00m magnitude_data]\n",
      "Cell \u001b[0;32mIn[57], line 78\u001b[0m, in \u001b[0;36mcount_steps\u001b[0;34m(signal, template, thr)\u001b[0m\n\u001b[1;32m     73\u001b[0m min_indexes \u001b[38;5;241m=\u001b[39m parse_indexes(min_indexes, corrs)\n\u001b[1;32m     75\u001b[0m \u001b[38;5;66;03m# this function should be used only if you are sure that a person kept walking,\u001b[39;00m\n\u001b[1;32m     76\u001b[0m \u001b[38;5;66;03m# in this way you can make sure that even if a step is not detected a good\u001b[39;00m\n\u001b[1;32m     77\u001b[0m \u001b[38;5;66;03m# estimate of the step is still obtained\u001b[39;00m\n\u001b[0;32m---> 78\u001b[0m new_indexes \u001b[38;5;241m=\u001b[39m \u001b[38;5;28msorted\u001b[39m(\u001b[43mcorrect_missing_indexes\u001b[49m\u001b[43m(\u001b[49m\u001b[43mmin_indexes\u001b[49m\u001b[43m)\u001b[49m)\n\u001b[1;32m     80\u001b[0m \u001b[38;5;66;03m# Return the list of calculated step indexes\u001b[39;00m\n\u001b[1;32m     81\u001b[0m \u001b[38;5;28;01mreturn\u001b[39;00m new_indexes\n",
      "Cell \u001b[0;32mIn[57], line 4\u001b[0m, in \u001b[0;36mcorrect_missing_indexes\u001b[0;34m(min_indexes)\u001b[0m\n\u001b[1;32m      1\u001b[0m \u001b[38;5;28;01mdef\u001b[39;00m \u001b[38;5;21mcorrect_missing_indexes\u001b[39m(min_indexes):\n\u001b[1;32m      2\u001b[0m     \u001b[38;5;66;03m# getting the median step length\u001b[39;00m\n\u001b[1;32m      3\u001b[0m     median \u001b[38;5;241m=\u001b[39m np\u001b[38;5;241m.\u001b[39mmedian(np\u001b[38;5;241m.\u001b[39mdiff(min_indexes))\n\u001b[0;32m----> 4\u001b[0m     start_index \u001b[38;5;241m=\u001b[39m \u001b[43mmin_indexes\u001b[49m\u001b[43m[\u001b[49m\u001b[38;5;241;43m0\u001b[39;49m\u001b[43m]\u001b[49m\n\u001b[1;32m      5\u001b[0m     indexes \u001b[38;5;241m=\u001b[39m [start_index]\n\u001b[1;32m      6\u001b[0m     \u001b[38;5;28;01mfor\u001b[39;00m min_index \u001b[38;5;129;01min\u001b[39;00m min_indexes[\u001b[38;5;241m1\u001b[39m:]:\n\u001b[1;32m      7\u001b[0m         \u001b[38;5;66;03m# checking if the step interval is greater than 1.5 times the median, if so\u001b[39;00m\n\u001b[1;32m      8\u001b[0m         \u001b[38;5;66;03m# the interval is divided in round(len(interval) / median intervals)\u001b[39;00m\n",
      "\u001b[0;31mIndexError\u001b[0m: index 0 is out of bounds for axis 0 with size 0"
     ]
    }
   ],
   "source": [
    "magnitude = compute_magnitude_data(final_accelerometer_train)\n",
    "magnitude_test = compute_magnitude_data(final_accelerometer_test)\n",
    "\n",
    "# Calculate the step cycles of every sample\n",
    "cycles = count_steps_all(magnitude, step_template)\n",
    "cycles_test = count_steps_all(magnitude_test, step_template)\n",
    "\n",
    "# Resample the accelerometer data for including only steps\n",
    "steps_accelerometer_train = get_cycles(cycles, final_accelerometer_train)\n",
    "steps_accelerometer_test = get_cycles(cycles_test, final_accelerometer_test)\n",
    "\n",
    "# Resample the gyroscope data for including only steps\n",
    "steps_gyroscope_train = get_cycles(cycles, final_gyroscope_train)\n",
    "steps_gyroscope_test = get_cycles(cycles_test, final_gyroscope_test)"
   ]
  },
  {
   "cell_type": "markdown",
   "metadata": {},
   "source": [
    "#### Interpolated Step-Length Annotated Sample"
   ]
  },
  {
   "cell_type": "markdown",
   "metadata": {},
   "source": [
    "As refered earlier, two of the considered datasets for the user classification task present data samples already annotated and interpolated into a two step length.\n",
    "\n",
    "This means that each sample collected on those datasets represents exactly two steps taken by the user the sample wants to identify, which can simply be exctracted by dividing the sample in half."
   ]
  },
  {
   "cell_type": "markdown",
   "metadata": {},
   "source": [
    "##### Process Definition"
   ]
  },
  {
   "cell_type": "code",
   "execution_count": 53,
   "metadata": {},
   "outputs": [],
   "source": [
    "def step_extraction_sample(sample: np.array, step_length: int = 64) -> list:\n",
    "    '''\n",
    "    Exctract the steps from a interpolated step annotated sample.\n",
    "\n",
    "    Args:\n",
    "        sample (np.array): The sample which is wanted for the step exctraction.\n",
    "        step_length (int): The step length in the sample.\n",
    "\n",
    "    Returns:\n",
    "        list: The sample divided into Steps * Signals * Axis.\n",
    "    '''\n",
    "\n",
    "    # Create the list where the steps will be stored\n",
    "    steps = []\n",
    "\n",
    "    # Create the start index for the step exctraction\n",
    "    i = 0\n",
    "\n",
    "    # While there are steps to extract, exctract them\n",
    "    while (i + step_length) <= len(sample):\n",
    "\n",
    "        # Extract a step sample\n",
    "        steps.append(sample[i:i + step_length].reshape((i + step_length - i, -1)))\n",
    "\n",
    "        # Increase the start index for the next step\n",
    "        i += step_length\n",
    "\n",
    "    # Return the exctracted steps\n",
    "    return steps\n",
    "\n",
    "def step_extraction_data(data: list, step_length: int = 64) -> list:\n",
    "    '''\n",
    "    Exctract the steps from each of the samples in a device dataset.\n",
    "\n",
    "    Args:\n",
    "        data (list): The list of samples collected on the device dataset.\n",
    "        step_length (int): The step length in the sample.\n",
    "\n",
    "    Returns:\n",
    "        list: A list of the device dataset resampled to samples separated into steps of form Samples * Steps * Signals * Axis.\n",
    "    '''\n",
    "\n",
    "    # Create and return the new device dataset list\n",
    "    return [step_extraction_sample(sample, step_length) for sample in data]"
   ]
  },
  {
   "cell_type": "markdown",
   "metadata": {},
   "source": [
    "##### Application to the data"
   ]
  },
  {
   "cell_type": "code",
   "execution_count": 57,
   "metadata": {},
   "outputs": [],
   "source": [
    "# Exctract the steps from the accelerometer data\n",
    "steps_accelerometer_train = step_extraction_data(final_accelerometer_train)\n",
    "steps_accelerometer_test = step_extraction_data(final_accelerometer_test)\n",
    "\n",
    "# Exctract the steps from the gyroscope data\n",
    "steps_gyroscope_train = step_extraction_data(final_gyroscope_train)\n",
    "steps_gyroscope_test = step_extraction_data(final_gyroscope_test)"
   ]
  },
  {
   "cell_type": "markdown",
   "metadata": {},
   "source": [
    "### 4. Reference System Normalization"
   ]
  },
  {
   "cell_type": "markdown",
   "metadata": {},
   "source": [
    "With the steps exctracted from every single sampled, it is now desired that every single one of them follows a common reference system so the signals can be independent from their devices own references systems.\n",
    "\n",
    "The goal is to achieve in all samples a common reference system that all the signals will be aligned with so it is easier for the model to recognize patterns in samples that might differ in collected enviroment and device but belong to the same subject."
   ]
  },
  {
   "cell_type": "markdown",
   "metadata": {},
   "source": [
    "#### Process Definition"
   ]
  },
  {
   "cell_type": "code",
   "execution_count": 58,
   "metadata": {},
   "outputs": [],
   "source": [
    "def normalize_principal_vector(v: np.array, v0: np.array) -> np.array:\n",
    "    '''\n",
    "    Change the direction of vector if it differs a lot in direction with a reference vector.\n",
    "\n",
    "    Args:\n",
    "        v (np.array): The vector to check and change direction.\n",
    "        v0 (np.array): The reference vector.\n",
    "\n",
    "    Returns:\n",
    "        np.array: The vector with the required changes.\n",
    "    '''    \n",
    "\n",
    "    # Check if the direction of v differs a lot with the direction of v0\n",
    "    if v.reshape(1, 3)@v0.reshape((3, 1)) < 0:\n",
    "\n",
    "        # Change direction and return the vector\n",
    "        return -v\n",
    "    \n",
    "    else:\n",
    "\n",
    "        # Keep and return the vector as original\n",
    "        return v\n",
    "\n",
    "def normalize_reference_sample(acc_sample: list, gyr_sample: list) -> tuple[list, list]:\n",
    "    '''\n",
    "    Normalize all the steps in a sample to a common reference system.\n",
    "\n",
    "    Args:\n",
    "        acc_sample (list): A sample of steps captured by the accelerometer to normalize in the reference system.\n",
    "        gyr_sample (list): A sample of steps captured by the gyroscope to normalize in the reference system.\n",
    "\n",
    "    Returns:\n",
    "        tuple[list, list]: The samples with the steps normalized to the reference system.\n",
    "    '''\n",
    "\n",
    "    # Create the lists to store the processed steps\n",
    "    new_acc_sample = []\n",
    "    new_gyr_sample = []\n",
    "\n",
    "    # Iterate over all the steps within a sample\n",
    "    for i, (acc_step, gyr_step) in enumerate(zip(acc_sample, gyr_sample)):\n",
    "\n",
    "        # Compute the first axis with the average acceleration\n",
    "        first_axis = acc_step.mean(axis=0)\n",
    "\n",
    "        # Compute the normalized gravity vector\n",
    "        gravity = first_axis.reshape(1, 3) / np.linalg.norm(first_axis)\n",
    "\n",
    "        # Create the lists that will store the normalized signals of the step\n",
    "        normalized_acc = []\n",
    "        normalized_gyr = []\n",
    "\n",
    "        # Exctract the component along the gravity versor\n",
    "        normalized_acc.append(acc_step@gravity.T)\n",
    "        normalized_gyr.append(gyr_step@gravity.T)\n",
    "\n",
    "        # Remove the component along the gravity axis\n",
    "        main_direction_acc = normalized_acc[0] * gravity\n",
    "        main_direction_gyr = normalized_gyr[0] * gravity\n",
    "        planar_direction_acc = acc_step - main_direction_acc\n",
    "        planar_direction_gyr = gyr_step - main_direction_gyr\n",
    "\n",
    "        # Compute PCA along the resulting plane to obtain the remaining directions\n",
    "        pca_acc = PCA(2).fit(planar_direction_acc)\n",
    "        pca_gyr = PCA(2).fit(planar_direction_gyr)\n",
    "\n",
    "        # Exctract the remaing components\n",
    "        acc_y, acc_z = pca_acc.components_\n",
    "        gyr_y, gyr_z = pca_gyr.components_\n",
    "\n",
    "        # Exctract the vectors of the first step to align the other steps components\n",
    "        if i == 0:\n",
    "            acc_y0, acc_z0 = acc_y, acc_z\n",
    "            gyr_y0, gyr_z0 = gyr_y, gyr_z\n",
    "\n",
    "        # Align the remaining components\n",
    "        acc_y = normalize_principal_vector(acc_y, acc_y0)\n",
    "        acc_z = normalize_principal_vector(acc_z, acc_z0)\n",
    "        gyr_y = normalize_principal_vector(gyr_y, gyr_y0)\n",
    "        gyr_z = normalize_principal_vector(gyr_z, gyr_z0)\n",
    "\n",
    "        # Add the remaining components\n",
    "        normalized_acc.append(acc_step@acc_y.reshape(3, 1))\n",
    "        normalized_acc.append(acc_step@acc_z.reshape(3, 1))\n",
    "        normalized_gyr.append(gyr_step@gyr_y.reshape(3, 1))\n",
    "        normalized_gyr.append(gyr_step@gyr_z.reshape(3, 1))\n",
    "\n",
    "        # Append the reference system normalized signals to the lists\n",
    "        new_acc_sample.append(np.concatenate(normalized_acc, axis=1))\n",
    "        new_gyr_sample.append(np.concatenate(normalized_gyr, axis=1))\n",
    "\n",
    "    # Return the new normalized samples\n",
    "    return new_acc_sample, new_gyr_sample\n",
    "\n",
    "def normalize_reference_data(acc_data_steps: list, gyr_data_steps: list) -> list:\n",
    "    '''\n",
    "    Normalize the reference system of all the samples (step exctracted) collected by the accelerometer and gyroscope.\n",
    "\n",
    "    Args:\n",
    "        acc_data_steps (list): The list of data samples (step exctracted) collected by the accelerometer.\n",
    "        gyr_data_steps (list): The list of data samples (step exctracted) collected by the gyroscope.\n",
    "\n",
    "    Returns:\n",
    "        list: A list with both devices all reference system normalized samples of shape Samples * Devices * Steps * Signals * Axis.\n",
    "    '''\n",
    "\n",
    "    # Create and return the list of the processed samples\n",
    "    return [normalize_reference_sample(acc_sample, gyr_sample) for acc_sample, gyr_sample in zip(acc_data_steps, gyr_data_steps)]"
   ]
  },
  {
   "cell_type": "markdown",
   "metadata": {},
   "source": [
    "#### Application to the data"
   ]
  },
  {
   "cell_type": "code",
   "execution_count": 59,
   "metadata": {},
   "outputs": [],
   "source": [
    "# Normalize the reference system for training data\n",
    "normalized_reference_samples_train = normalize_reference_data(steps_accelerometer_train, steps_gyroscope_train)\n",
    "\n",
    "# Normalize the reference system for test data\n",
    "normalized_reference_samples_test = normalize_reference_data(steps_accelerometer_test, steps_gyroscope_test)"
   ]
  },
  {
   "cell_type": "markdown",
   "metadata": {},
   "source": [
    "### 5. Sample Normalization"
   ]
  },
  {
   "cell_type": "markdown",
   "metadata": {},
   "source": [
    "#### Process Definition"
   ]
  },
  {
   "cell_type": "code",
   "execution_count": 55,
   "metadata": {},
   "outputs": [],
   "source": [
    "def normalize_length(sample: list, target_sample_length: int = 200) -> np.array:\n",
    "    '''\n",
    "    Interpolate the steps of a sample into the desired sample length.\n",
    "\n",
    "    Args:\n",
    "        sample (list): The list of steps in a sample.\n",
    "        target_sample_length (int): The desired lenght for the sample.\n",
    "\n",
    "    Returns:\n",
    "        np.array: The interpolated sample in the desired Steps * Signals * Axis format.\n",
    "    '''\n",
    "\n",
    "    # Create a list to store the normalized steps\n",
    "    normalized_sample = []\n",
    "\n",
    "    # Iterate over all the steps for each sample\n",
    "    for step in sample:\n",
    "\n",
    "        # Create the vector of signals for this step\n",
    "        step_vect = []\n",
    "\n",
    "        # Iterate over all the axis of the step\n",
    "        for vec in step.T:\n",
    "\n",
    "            # Get the indexes for all the axis samples\n",
    "            x = np.arange(len(vec))\n",
    "\n",
    "            # Create a cubic spline with the characteritcs of the axis signal\n",
    "            cs = CubicSpline(x, vec)\n",
    "\n",
    "            # Create the new linear space with the target length\n",
    "            new_x = np.linspace(0, len(vec), target_sample_length)\n",
    "\n",
    "            # Calculate the interpolated signal in the desired axis\n",
    "            interpolated = cs(new_x)\n",
    "\n",
    "            # Append the interpolated data to the vector\n",
    "            step_vect.append(interpolated)\n",
    "\n",
    "        # Append the normalized step to the new sample\n",
    "        normalized_sample.append(np.vstack(step_vect).T)\n",
    "\n",
    "    # Convert and return the sample in the desired form\n",
    "    return np.array(normalized_sample)\n",
    "\n",
    "def normalize_structure_data_single_step(data: list) -> tuple[np.array, np.array]:\n",
    "    '''\n",
    "    Convert and normalize the current compacted data into the desired format (single step) to feed the neural network.\n",
    "\n",
    "    Args:\n",
    "        data (list): The list of samples of shape Devices * Steps * Signals * Axis.\n",
    "\n",
    "    Returns:\n",
    "        tuple[np.array, np.array]: Tuple of separated device samples with normalized unique step length.\n",
    "    '''\n",
    "    \n",
    "    # Create the final list of accelerometer normalized samples\n",
    "    normal_acc = []\n",
    "\n",
    "    # Create the final list of gyroscope normalized samples\n",
    "    normal_gyr = []\n",
    "    \n",
    "    # Iterate over all the accelerometer and gyroscope samples\n",
    "    for acc, gyr in data:\n",
    "\n",
    "        # Normalize and append one step of the accelerometer\n",
    "        normal_acc += list([normalize_length(acc)[0]])\n",
    "\n",
    "        # Normalize and append one step of the gyroscope\n",
    "        normal_gyr += list([normalize_length(gyr)[0]])\n",
    "\n",
    "    # Return and convert the samples lists\n",
    "    return np.array(normal_acc), np.array(normal_gyr)\n",
    "\n",
    "def normalize_structure_data_single_continuous_steps(data: list) -> tuple[np.array, np.array]:\n",
    "    '''\n",
    "    Convert and normalize the current compacted data into the desired format (single continuous steps) to feed the neural network.\n",
    "\n",
    "    Args:\n",
    "        data (list): The list of samples of shape Devices * Steps * Signals * Axis.\n",
    "\n",
    "    Returns:\n",
    "        tuple[np.array, np.array]: Tuple of separated device samples with normalized steps length.\n",
    "    '''\n",
    "    \n",
    "    # Create the final list of accelerometer normalized samples\n",
    "    normal_acc = []\n",
    "\n",
    "    # Create the final list of gyroscope normalized samples\n",
    "    normal_gyr = []\n",
    "    \n",
    "    # Iterate over all the accelerometer and gyroscope samples\n",
    "    for acc, gyr in data:\n",
    "\n",
    "        # Normalize and append one step of the accelerometer\n",
    "        normal_acc += list([normalize_length(acc).reshape(-1, 3)])\n",
    "\n",
    "        # Normalize and append one step of the gyroscope\n",
    "        normal_gyr += list([normalize_length(gyr).reshape(-1, 3)])\n",
    "\n",
    "    # Return and convert the samples lists\n",
    "    return np.array(normal_acc), np.array(normal_gyr)\n",
    "\n",
    "def normalize_structure_data_single_steps(data: list) -> tuple[np.array, np.array, list]:\n",
    "    '''\n",
    "    Convert and normalize the current compacted data into the desired format (single seperated steps) to feed the neural network.\n",
    "\n",
    "    Args:\n",
    "        data (list): The list of samples of shape Devices * Steps * Signals * Axis.\n",
    "\n",
    "    Returns:\n",
    "        tuple[np.array, np.array, list]: Tuple of separated device samples with normalized separated steps length\n",
    "        and the list of the number of samples per index.\n",
    "    '''\n",
    "    \n",
    "    # Create the final list of accelerometer normalized samples\n",
    "    normal_acc = []\n",
    "\n",
    "    # Create the final list of gyroscope normalized samples\n",
    "    normal_gyr = []\n",
    "\n",
    "    # Create the list of number of samples per index\n",
    "    num_samples = []\n",
    "    \n",
    "    # Iterate over all the accelerometer and gyroscope samples\n",
    "    for acc, gyr in data:\n",
    "\n",
    "        # Count the number of steps in the sample\n",
    "        num_samples.append(len(acc))\n",
    "\n",
    "        # Normalize and append one step of the accelerometer\n",
    "        normal_acc += list(normalize_length(acc))\n",
    "\n",
    "        # Normalize and append one step of the gyroscope\n",
    "        normal_gyr += list(normalize_length(gyr))\n",
    "\n",
    "    # Return and convert the samples lists\n",
    "    return np.array(normal_acc), np.array(normal_gyr), num_samples\n",
    "\n",
    "def update_labels(samples_num: list, labels: list) -> list:\n",
    "    '''\n",
    "    Update the labels list to match the number of samples per index.\n",
    "\n",
    "    Args:\n",
    "        samples_num (list): The number of samples per index.\n",
    "        labels (list): The label data to be updated.\n",
    "\n",
    "    Returns:\n",
    "        list: The updated label list for the number of samples.\n",
    "    '''\n",
    "\n",
    "    # Create the list that will store the new labels\n",
    "    new_labels = []\n",
    "\n",
    "    # Iterate over all the indexes of the labels list\n",
    "    for i in range(len(samples_num)):\n",
    "\n",
    "        # Iterate over the number of samples for that index\n",
    "        for _ in range(samples_num[i]):\n",
    "\n",
    "            # Make a copy of the output in that sample index\n",
    "            new_labels.append(labels[i])\n",
    "\n",
    "    # Return the new label list\n",
    "    return new_labels"
   ]
  },
  {
   "cell_type": "markdown",
   "metadata": {},
   "source": [
    "#### Application to the data (Single Step)"
   ]
  },
  {
   "cell_type": "code",
   "execution_count": 342,
   "metadata": {},
   "outputs": [],
   "source": [
    "# Normalize the training samples\n",
    "final_accelerometer_train, final_gyroscope_train = normalize_structure_data_single_step(normalized_reference_samples_train)\n",
    "\n",
    "# Normalize the testing samples\n",
    "final_accelerometer_test, final_gyroscope_test = normalize_structure_data_single_step(normalized_reference_samples_test)"
   ]
  },
  {
   "cell_type": "markdown",
   "metadata": {},
   "source": [
    "#### Application to the data (Single Continuous Step)"
   ]
  },
  {
   "cell_type": "code",
   "execution_count": 60,
   "metadata": {},
   "outputs": [],
   "source": [
    "# Normalize the training samples\n",
    "final_accelerometer_train, final_gyroscope_train = normalize_structure_data_single_continuous_steps(normalized_reference_samples_train)\n",
    "\n",
    "# Normalize the testing samples\n",
    "final_accelerometer_test, final_gyroscope_test = normalize_structure_data_single_continuous_steps(normalized_reference_samples_test)"
   ]
  },
  {
   "cell_type": "markdown",
   "metadata": {},
   "source": [
    "#### Application to the data (Multiple Steps)"
   ]
  },
  {
   "cell_type": "code",
   "execution_count": 71,
   "metadata": {},
   "outputs": [],
   "source": [
    "# Normalize the training samples\n",
    "final_accelerometer_train, final_gyroscope_train, label_index_train = normalize_structure_data_single_steps(normalized_reference_samples_train)\n",
    "final_output_train = update_labels(label_index_train, final_output_train)\n",
    "\n",
    "# Normalize the testing samples\n",
    "final_accelerometer_test, final_gyroscope_test, label_index_test = normalize_structure_data_single_steps(normalized_reference_samples_test)\n",
    "final_output_test = update_labels(label_index_test, final_output_test)"
   ]
  },
  {
   "cell_type": "markdown",
   "metadata": {},
   "source": [
    "## Neural Network Models"
   ]
  },
  {
   "cell_type": "code",
   "execution_count": 11,
   "metadata": {},
   "outputs": [
    {
     "name": "stderr",
     "output_type": "stream",
     "text": [
      "2025-02-10 12:49:05.815515: I tensorflow/core/util/port.cc:153] oneDNN custom operations are on. You may see slightly different numerical results due to floating-point round-off errors from different computation orders. To turn them off, set the environment variable `TF_ENABLE_ONEDNN_OPTS=0`.\n",
      "2025-02-10 12:49:05.825330: I external/local_xla/xla/tsl/cuda/cudart_stub.cc:32] Could not find cuda drivers on your machine, GPU will not be used.\n",
      "2025-02-10 12:49:05.926629: I external/local_xla/xla/tsl/cuda/cudart_stub.cc:32] Could not find cuda drivers on your machine, GPU will not be used.\n",
      "2025-02-10 12:49:05.996562: E external/local_xla/xla/stream_executor/cuda/cuda_fft.cc:477] Unable to register cuFFT factory: Attempting to register factory for plugin cuFFT when one has already been registered\n",
      "WARNING: All log messages before absl::InitializeLog() is called are written to STDERR\n",
      "E0000 00:00:1739191746.081104    6251 cuda_dnn.cc:8310] Unable to register cuDNN factory: Attempting to register factory for plugin cuDNN when one has already been registered\n",
      "E0000 00:00:1739191746.109291    6251 cuda_blas.cc:1418] Unable to register cuBLAS factory: Attempting to register factory for plugin cuBLAS when one has already been registered\n",
      "2025-02-10 12:49:06.305772: I tensorflow/core/platform/cpu_feature_guard.cc:210] This TensorFlow binary is optimized to use available CPU instructions in performance-critical operations.\n",
      "To enable the following instructions: AVX2 AVX512F AVX512_VNNI FMA, in other operations, rebuild TensorFlow with the appropriate compiler flags.\n"
     ]
    }
   ],
   "source": [
    "import tensorflow as tf\n",
    "from tensorflow import keras\n",
    "from keras.models import Sequential, load_model, Model\n",
    "from keras.layers import Conv1D, MaxPooling1D, Flatten, Dense, Dropout, BatchNormalization, Input, LSTM, Concatenate\n",
    "from keras.utils import to_categorical\n",
    "from sklearn.preprocessing import StandardScaler"
   ]
  },
  {
   "cell_type": "markdown",
   "metadata": {},
   "source": [
    "### Preprocessing of the Data (General Procedure)"
   ]
  },
  {
   "cell_type": "markdown",
   "metadata": {},
   "source": [
    "#### Concatenation of the Accelerometer and Gyroscope Data"
   ]
  },
  {
   "cell_type": "code",
   "execution_count": 61,
   "metadata": {},
   "outputs": [],
   "source": [
    "# Combine the data into one single matrix (Steps * 128 * 6)\n",
    "combined_data_train = np.concatenate([final_accelerometer_train, final_gyroscope_train], axis=-1)\n",
    "combined_data_test = np.concatenate([final_accelerometer_test, final_gyroscope_test], axis=-1)"
   ]
  },
  {
   "cell_type": "markdown",
   "metadata": {},
   "source": [
    "#### Normalization of the Input Data"
   ]
  },
  {
   "cell_type": "code",
   "execution_count": 62,
   "metadata": {},
   "outputs": [],
   "source": [
    "# Create the normalization scaler\n",
    "scaler = StandardScaler()\n",
    "\n",
    "# Fit and normalize the training data to the scaler\n",
    "X_train = scaler.fit_transform(combined_data_train.reshape(-1, 6)).reshape(combined_data_train.shape)\n",
    "\n",
    "# Normalize the test data\n",
    "X_test = scaler.transform(combined_data_test.reshape(-1, 6)).reshape(combined_data_test.shape)"
   ]
  },
  {
   "cell_type": "markdown",
   "metadata": {},
   "source": [
    "#### One-Hot Enconding of the Output Labels"
   ]
  },
  {
   "cell_type": "code",
   "execution_count": 63,
   "metadata": {},
   "outputs": [],
   "source": [
    "# Convert training labels to One-Hot\n",
    "Y_train = to_categorical(final_output_train)\n",
    "\n",
    "# Convert test labels to One-Hot\n",
    "Y_test = to_categorical(final_output_test)"
   ]
  },
  {
   "cell_type": "markdown",
   "metadata": {},
   "source": [
    "#### Utilities"
   ]
  },
  {
   "cell_type": "code",
   "execution_count": 15,
   "metadata": {},
   "outputs": [],
   "source": [
    "def create_output_layers(num_classes: int, density: int = 128, activation: str = 'relu', dropout: float = 0.3) -> list:\n",
    "    '''\n",
    "    Create the standard output layers of a classification neural network with the given parameters.\n",
    "\n",
    "    Args:\n",
    "        num_classes (int): The number of classes that model can predict.\n",
    "        dropout (float): The dropout rate of the output layer.\n",
    "        activation (str): The activation function applied after the dense output layer.\n",
    "        density (int): Number of neurons in the dense layer.\n",
    "\n",
    "    Returns:\n",
    "        list: The list of layers created with the given parameters.\n",
    "    '''\n",
    "\n",
    "    # Create the layers array\n",
    "    layers = []\n",
    "\n",
    "    # Add the dense layer\n",
    "    layers.append(Dense(density, activation=activation))\n",
    "\n",
    "    # Add the dropout layer\n",
    "    layers.append(Dropout(dropout))\n",
    "\n",
    "    # Add the output layer\n",
    "    layers.append(Dense(num_classes, activation='softmax'))\n",
    "\n",
    "    # Return the created layer list\n",
    "    return layers"
   ]
  },
  {
   "cell_type": "markdown",
   "metadata": {},
   "source": [
    "### CNN (Convolutional Neural Network)"
   ]
  },
  {
   "cell_type": "markdown",
   "metadata": {},
   "source": [
    "#### Creation of CNN Models"
   ]
  },
  {
   "cell_type": "code",
   "execution_count": 16,
   "metadata": {},
   "outputs": [],
   "source": [
    "FILTER_SIZE = 64\n",
    "\n",
    "def create_cnn_layers(input_shape: tuple[int, int], num_layers: int = 3, dropout: float = 0.3, pool_size: int = 2, kernel_size: int = 3, activation: str = 'relu') -> list:\n",
    "    '''\n",
    "    Create the layers of a convolutional neural network with the given parameters.\n",
    "\n",
    "    Args:\n",
    "        input_shape (tuple[int,int]): The shape of the input of every entry for the model.\n",
    "        num_layers (int): The number of layers the model will have.\n",
    "        dropout (float): The dropout rate after every layer.\n",
    "        pool_size (int): Takes the maximum value from every pool_size time steps.\n",
    "        kernel_size (int): The size of each filter.\n",
    "        activation (str): The activation function applied after every layer.\n",
    "\n",
    "    Returns:\n",
    "        list: The list of layers created with the given parameters.\n",
    "    '''\n",
    "\n",
    "    # Create the layers array\n",
    "    layers = []\n",
    "\n",
    "    # Create the filter size variable that will increase every layer\n",
    "    filter_size = FILTER_SIZE\n",
    "\n",
    "    # Add the input layer\n",
    "    layers.append(Input(shape=input_shape))\n",
    "\n",
    "    # Iterate over the process of every layer creation\n",
    "    for layer in range(num_layers):\n",
    "\n",
    "        # Add the 1D Concolutional layer\n",
    "        layers.append(Conv1D(filters=filter_size, kernel_size=kernel_size, activation=activation))\n",
    "\n",
    "        # Add the normalization layer\n",
    "        layers.append(BatchNormalization())\n",
    "\n",
    "        # Add the pooling layer\n",
    "        layers.append(MaxPooling1D(pool_size=pool_size))\n",
    "\n",
    "        # Check if this is the last layer\n",
    "        if layer == num_layers - 1:\n",
    "\n",
    "            # Add the dropout layer\n",
    "            layers.append(Dropout(dropout + 0.1))\n",
    "\n",
    "        # In case it is not the last layer\n",
    "        else:\n",
    "\n",
    "            # Add the dropout layer\n",
    "            layers.append(Dropout(dropout))\n",
    "\n",
    "        # Double the filter size\n",
    "        filter_size *= 2\n",
    "\n",
    "    # Add the flattening layer\n",
    "    layers.append(Flatten())\n",
    "\n",
    "    # Return the created layer list\n",
    "    return layers\n",
    "\n",
    "def create_cnn(input_shape: tuple[int, int], num_classes: int, num_layers: int = 3, dropout: float = 0.3, pool_size: int = 2, kernel_size: int = 3, activation: str = 'relu', density: int = 128) -> Sequential:\n",
    "    '''\n",
    "    Create a convolutional neural network with the given parameters.\n",
    "\n",
    "    Args:\n",
    "        input_shape (tuple[int,int]): The shape of the input of every entry for the model.\n",
    "        num_classes (int): The number of classes that model can predict.\n",
    "        num_layers (int): The number of layers the model will have.\n",
    "        dropout (float): The dropout rate after every layer.\n",
    "        pool_size (int): Takes the maximum value from every pool_size time steps.\n",
    "        kernel_size (int): The size of each filter.\n",
    "        activation (str): The activation function applied after every layer.\n",
    "        density (int): Number of neurons in the dense layer.\n",
    "\n",
    "    Returns:\n",
    "        Sequential: A sequential CNN model created with the given parameters.\n",
    "    '''\n",
    "\n",
    "    # Create the layers array\n",
    "    layers = create_cnn_layers(input_shape, num_layers, dropout, pool_size, kernel_size, activation)\n",
    "\n",
    "    # Add the output layers\n",
    "    layers += create_output_layers(num_classes, density, activation, dropout + 0.2)\n",
    "\n",
    "    # Create and return the CNN model\n",
    "    return Sequential(layers)"
   ]
  },
  {
   "cell_type": "markdown",
   "metadata": {},
   "source": [
    "#### Building the CNN Model"
   ]
  },
  {
   "cell_type": "markdown",
   "metadata": {},
   "source": [
    "##### No Hyperparameter Tuning (Default Model Parameters)"
   ]
  },
  {
   "cell_type": "code",
   "execution_count": 64,
   "metadata": {},
   "outputs": [],
   "source": [
    "# Create the default CNN model\n",
    "model = create_cnn(X_train.shape[1::], Y_train.shape[1])\n",
    "\n",
    "# Compile the model\n",
    "model.compile(optimizer='adam', loss='categorical_crossentropy', metrics=['accuracy'])"
   ]
  },
  {
   "cell_type": "markdown",
   "metadata": {},
   "source": [
    "### LSTM (Long Short-Term Memory)"
   ]
  },
  {
   "cell_type": "markdown",
   "metadata": {},
   "source": [
    "#### Creation of LSTM Models"
   ]
  },
  {
   "cell_type": "code",
   "execution_count": 23,
   "metadata": {},
   "outputs": [],
   "source": [
    "NEURON_SIZE = 64\n",
    "\n",
    "def create_lstm_layers(input_shape: tuple[int,int], num_layers: int = 2, input_dropout: float = 0.0, recurrent_dropout: float = 0.0) -> list:\n",
    "    '''\n",
    "    Create the layers of a Long Short-Term Memory neural network based on the given parameters.\n",
    "\n",
    "    Args:\n",
    "        input_shape (tuple[int,int]): The shape of the input of every entry for the model.\n",
    "        num_layers (int): The number of layers the model will have.\n",
    "        input_dropout (float): The input dropout rate of every layer.\n",
    "        recurrent_dropout (float): The hidden state dropout rate of every layer.\n",
    "\n",
    "    Returns:\n",
    "        list: The list of layers created with the given parameters.\n",
    "    '''\n",
    "\n",
    "    # Create the layers array\n",
    "    layers = []\n",
    "\n",
    "    # Create the neuron size variable that will decrease every layer\n",
    "    neuron_size = int(NEURON_SIZE * (2 ** (num_layers - 1)))\n",
    "\n",
    "    # Add the input layer\n",
    "    layers.append(Input(shape=input_shape))\n",
    "\n",
    "    # Iterate over the process of every layer creation\n",
    "    for layer in range(num_layers):\n",
    "\n",
    "        # Evaluate if this is the last layer\n",
    "        return_seq = (layer != num_layers - 1)\n",
    "\n",
    "        # Add the LSTM layer\n",
    "        layers.append(LSTM(units=neuron_size, return_sequences=return_seq, dropout=input_dropout, recurrent_dropout=recurrent_dropout))\n",
    "\n",
    "        # Add the normalization layer\n",
    "        layers.append(BatchNormalization())\n",
    "\n",
    "        # Half the neuron size\n",
    "        neuron_size //= 2\n",
    "\n",
    "    # Return the created layer list\n",
    "    return layers\n",
    "\n",
    "def create_lstm(input_shape: tuple[int,int], num_classes: int, num_layers: int = 2, input_dropout: float = 0.0, recurrent_dropout: float = 0.0, output_dropout: float = 0.3, activation: str = 'relu', density: int = 128) -> Sequential:\n",
    "    '''\n",
    "    Create a Long Short-Term Memory neural network based on the given parameters.\n",
    "\n",
    "    Args:\n",
    "        input_shape (tuple[int,int]): The shape of the input of every entry for the model.\n",
    "        num_classes (int): The number of classes that model can predict.\n",
    "        num_layers (int): The number of layers the model will have.\n",
    "        input_dropout (float): The input dropout rate of every layer.\n",
    "        recurrent_dropout (float): The hidden state dropout rate of every layer.\n",
    "        output_dropout (float): The output dropout rate of the output layer.\n",
    "        activation (str): The activation function applied after the dense output layer.\n",
    "        density (int): Number of neurons in the dense layer.\n",
    "\n",
    "    Returns:\n",
    "        Sequential: A sequential LSTM model created with the given parameters.\n",
    "    '''\n",
    "\n",
    "    # Create the layers array\n",
    "    layers = create_lstm_layers(input_shape, num_layers, input_dropout, recurrent_dropout)\n",
    "\n",
    "    # Add the output layers\n",
    "    layers += create_output_layers(num_classes, density, activation, output_dropout)\n",
    "\n",
    "    # Create and return the LSTM model\n",
    "    return Sequential(layers)"
   ]
  },
  {
   "cell_type": "markdown",
   "metadata": {},
   "source": [
    "#### Building the LSTM Model"
   ]
  },
  {
   "cell_type": "markdown",
   "metadata": {},
   "source": [
    "##### No Hyperparameter Tuning (Default Model Parameters)"
   ]
  },
  {
   "cell_type": "code",
   "execution_count": 68,
   "metadata": {},
   "outputs": [],
   "source": [
    "# Create the default LSTM model\n",
    "model = create_lstm(X_train.shape[1::], Y_train.shape[1])\n",
    "\n",
    "# Compile the model\n",
    "model.compile(optimizer='adam', loss='categorical_crossentropy', metrics=['accuracy'])"
   ]
  },
  {
   "cell_type": "markdown",
   "metadata": {},
   "source": [
    "### CNN + LSTM"
   ]
  },
  {
   "cell_type": "markdown",
   "metadata": {},
   "source": [
    "#### Creation of CNN + LSTM"
   ]
  },
  {
   "cell_type": "code",
   "execution_count": 28,
   "metadata": {},
   "outputs": [],
   "source": [
    "def create_parallel_network(first_network_layers: list, second_network_layers: list, num_classes: int, droupout: float = 0.3, activation: str = 'relu', density: int = 128) -> Model:\n",
    "    '''\n",
    "    Create a parallel neural network with the two given neural paths and the output parameters.\n",
    "\n",
    "    Args:\n",
    "        first_network_layers (list): The first neural path.\n",
    "        second_network_layers (list): The second neural path.\n",
    "        num_classes (int): The number of classes that model can predict.\n",
    "        dropout (float): The output dropout rate of the output layer.\n",
    "        activation (str): The activation function applied after the dense output layer.\n",
    "        density (int): Number of neurons in the dense layer.\n",
    "\n",
    "    Returns:\n",
    "        Model: A parallel model created with the given parameters.\n",
    "    '''\n",
    "\n",
    "    # Extract the input layer from both pathways\n",
    "    first_input = first_network_layers[0]\n",
    "    second_input = second_network_layers[0]\n",
    "\n",
    "    # Extract the layers from the list of the first pathway\n",
    "    first_output = first_input\n",
    "    for layer in first_network_layers[1::]:\n",
    "        first_output = layer(first_output)\n",
    "\n",
    "    # Extract the layers from the list of the second pathway\n",
    "    second_output = second_input\n",
    "    for layer in second_network_layers[1::]:\n",
    "        second_output = layer(second_output)\n",
    "\n",
    "    # Concatenate the two neural pathways\n",
    "    concatenated = Concatenate(axis=1)([first_output, second_output])\n",
    "\n",
    "    # Extract the output layers\n",
    "    output_layers = concatenated\n",
    "    for layer in create_output_layers(num_classes, density, activation, droupout):\n",
    "        output_layers = layer(output_layers)\n",
    "\n",
    "    # Create and return the parallel model\n",
    "    return Model(inputs=[first_input, second_input], outputs=output_layers)"
   ]
  },
  {
   "cell_type": "markdown",
   "metadata": {},
   "source": [
    "#### Building the CNN + LSTM Model"
   ]
  },
  {
   "cell_type": "markdown",
   "metadata": {},
   "source": [
    "##### No Hyperparameter Tuning (Default Model Parameters)"
   ]
  },
  {
   "cell_type": "code",
   "execution_count": 47,
   "metadata": {},
   "outputs": [],
   "source": [
    "# Create the default CNN + LSTM model\n",
    "model = create_parallel_network(create_cnn_layers(X_train.shape[1::]), create_lstm_layers(X_train.shape[1::]), Y_train.shape[1])\n",
    "\n",
    "# Compile the model\n",
    "model.compile(optimizer='adam', loss='categorical_crossentropy', metrics=['accuracy'])"
   ]
  },
  {
   "cell_type": "markdown",
   "metadata": {},
   "source": [
    "#### Adapt of the CNN + LSTM Input Data"
   ]
  },
  {
   "cell_type": "code",
   "execution_count": 48,
   "metadata": {},
   "outputs": [],
   "source": [
    "# Adapt input feature train data\n",
    "X_train = [X_train, X_train]\n",
    "\n",
    "# Adapt input feature test data\n",
    "X_test = [X_test, X_test]"
   ]
  },
  {
   "cell_type": "markdown",
   "metadata": {},
   "source": [
    "### Evaluation of the Neural Network Model"
   ]
  },
  {
   "cell_type": "code",
   "execution_count": 18,
   "metadata": {},
   "outputs": [
    {
     "name": "stdout",
     "output_type": "stream",
     "text": [
      "mkdir: cannot create directory ‘models’: File exists\n"
     ]
    }
   ],
   "source": [
    "MODELS = 'models/'\n",
    "MODEL_EXTENSION = '.keras'\n",
    "\n",
    "!mkdir models"
   ]
  },
  {
   "cell_type": "markdown",
   "metadata": {},
   "source": [
    "#### Training the Neural Network Model"
   ]
  },
  {
   "cell_type": "markdown",
   "metadata": {},
   "source": [
    "##### Epochs = 50 | Batch-Size = 32 | Validation-Split = 20% (Default Training Parameters)"
   ]
  },
  {
   "cell_type": "code",
   "execution_count": 69,
   "metadata": {},
   "outputs": [
    {
     "name": "stdout",
     "output_type": "stream",
     "text": [
      "Epoch 1/50\n",
      "1109/1109 - 187s - 168ms/step - accuracy: 0.8003 - loss: 0.7252 - val_accuracy: 0.8998 - val_loss: 0.3554\n",
      "Epoch 2/50\n",
      "1109/1109 - 186s - 168ms/step - accuracy: 0.8987 - loss: 0.3687 - val_accuracy: 0.9228 - val_loss: 0.2765\n",
      "Epoch 3/50\n",
      "1109/1109 - 188s - 169ms/step - accuracy: 0.9208 - loss: 0.2883 - val_accuracy: 0.9135 - val_loss: 0.3176\n",
      "Epoch 4/50\n",
      "1109/1109 - 187s - 169ms/step - accuracy: 0.9324 - loss: 0.2380 - val_accuracy: 0.9347 - val_loss: 0.2298\n",
      "Epoch 5/50\n",
      "1109/1109 - 188s - 169ms/step - accuracy: 0.9409 - loss: 0.2121 - val_accuracy: 0.9456 - val_loss: 0.1927\n",
      "Epoch 6/50\n",
      "1109/1109 - 189s - 170ms/step - accuracy: 0.9496 - loss: 0.1804 - val_accuracy: 0.9520 - val_loss: 0.1778\n",
      "Epoch 7/50\n",
      "1109/1109 - 203s - 183ms/step - accuracy: 0.9519 - loss: 0.1716 - val_accuracy: 0.9332 - val_loss: 0.2385\n",
      "Epoch 8/50\n",
      "1109/1109 - 208s - 188ms/step - accuracy: 0.9529 - loss: 0.1690 - val_accuracy: 0.9556 - val_loss: 0.1630\n",
      "Epoch 9/50\n",
      "1109/1109 - 210s - 190ms/step - accuracy: 0.9607 - loss: 0.1410 - val_accuracy: 0.9583 - val_loss: 0.1557\n",
      "Epoch 10/50\n",
      "1109/1109 - 204s - 184ms/step - accuracy: 0.9621 - loss: 0.1364 - val_accuracy: 0.9595 - val_loss: 0.1594\n",
      "Epoch 11/50\n",
      "1109/1109 - 192s - 173ms/step - accuracy: 0.9656 - loss: 0.1228 - val_accuracy: 0.9627 - val_loss: 0.1395\n",
      "Epoch 12/50\n",
      "1109/1109 - 191s - 172ms/step - accuracy: 0.9689 - loss: 0.1100 - val_accuracy: 0.9578 - val_loss: 0.1624\n",
      "Epoch 13/50\n",
      "1109/1109 - 193s - 174ms/step - accuracy: 0.9701 - loss: 0.1043 - val_accuracy: 0.9643 - val_loss: 0.1358\n",
      "Epoch 14/50\n",
      "1109/1109 - 192s - 173ms/step - accuracy: 0.9686 - loss: 0.1084 - val_accuracy: 0.9654 - val_loss: 0.1392\n",
      "Epoch 15/50\n",
      "1109/1109 - 193s - 174ms/step - accuracy: 0.9738 - loss: 0.0923 - val_accuracy: 0.9635 - val_loss: 0.1405\n",
      "Epoch 16/50\n",
      "1109/1109 - 204s - 184ms/step - accuracy: 0.9718 - loss: 0.0986 - val_accuracy: 0.9617 - val_loss: 0.1408\n",
      "Epoch 17/50\n",
      "1109/1109 - 212s - 191ms/step - accuracy: 0.9780 - loss: 0.0793 - val_accuracy: 0.9694 - val_loss: 0.1164\n",
      "Epoch 18/50\n",
      "1109/1109 - 202s - 182ms/step - accuracy: 0.9722 - loss: 0.0973 - val_accuracy: 0.9649 - val_loss: 0.1302\n",
      "Epoch 19/50\n",
      "1109/1109 - 203s - 183ms/step - accuracy: 0.9717 - loss: 0.0947 - val_accuracy: 0.9679 - val_loss: 0.1290\n",
      "Epoch 20/50\n",
      "1109/1109 - 202s - 182ms/step - accuracy: 0.9778 - loss: 0.0775 - val_accuracy: 0.9687 - val_loss: 0.1246\n",
      "Epoch 21/50\n",
      "1109/1109 - 202s - 182ms/step - accuracy: 0.9789 - loss: 0.0728 - val_accuracy: 0.9673 - val_loss: 0.1312\n",
      "Epoch 22/50\n",
      "1109/1109 - 202s - 182ms/step - accuracy: 0.9819 - loss: 0.0648 - val_accuracy: 0.9409 - val_loss: 0.2176\n",
      "Epoch 23/50\n",
      "1109/1109 - 199s - 180ms/step - accuracy: 0.9808 - loss: 0.0677 - val_accuracy: 0.9719 - val_loss: 0.1077\n",
      "Epoch 24/50\n",
      "1109/1109 - 189s - 170ms/step - accuracy: 0.9820 - loss: 0.0635 - val_accuracy: 0.9734 - val_loss: 0.1069\n",
      "Epoch 25/50\n",
      "1109/1109 - 189s - 170ms/step - accuracy: 0.9817 - loss: 0.0622 - val_accuracy: 0.9671 - val_loss: 0.1282\n",
      "Epoch 26/50\n",
      "1109/1109 - 190s - 171ms/step - accuracy: 0.9787 - loss: 0.0737 - val_accuracy: 0.9692 - val_loss: 0.1214\n",
      "Epoch 27/50\n",
      "1109/1109 - 190s - 171ms/step - accuracy: 0.9820 - loss: 0.0623 - val_accuracy: 0.9729 - val_loss: 0.1045\n",
      "Epoch 28/50\n",
      "1109/1109 - 189s - 171ms/step - accuracy: 0.9831 - loss: 0.0573 - val_accuracy: 0.9709 - val_loss: 0.1130\n",
      "Epoch 29/50\n"
     ]
    },
    {
     "ename": "KeyboardInterrupt",
     "evalue": "",
     "output_type": "error",
     "traceback": [
      "\u001b[0;31m---------------------------------------------------------------------------\u001b[0m",
      "\u001b[0;31mKeyboardInterrupt\u001b[0m                         Traceback (most recent call last)",
      "Cell \u001b[0;32mIn[69], line 2\u001b[0m\n\u001b[1;32m      1\u001b[0m \u001b[38;5;66;03m# Train the model with the given data\u001b[39;00m\n\u001b[0;32m----> 2\u001b[0m \u001b[43mmodel\u001b[49m\u001b[38;5;241;43m.\u001b[39;49m\u001b[43mfit\u001b[49m\u001b[43m(\u001b[49m\n\u001b[1;32m      3\u001b[0m \u001b[43m    \u001b[49m\u001b[43mX_train\u001b[49m\u001b[43m,\u001b[49m\u001b[43m \u001b[49m\u001b[43mY_train\u001b[49m\u001b[43m,\u001b[49m\n\u001b[1;32m      4\u001b[0m \u001b[43m    \u001b[49m\u001b[43mvalidation_split\u001b[49m\u001b[38;5;241;43m=\u001b[39;49m\u001b[38;5;241;43m0.2\u001b[39;49m\u001b[43m,\u001b[49m\n\u001b[1;32m      5\u001b[0m \u001b[43m    \u001b[49m\u001b[43mepochs\u001b[49m\u001b[38;5;241;43m=\u001b[39;49m\u001b[38;5;241;43m50\u001b[39;49m\u001b[43m,\u001b[49m\n\u001b[1;32m      6\u001b[0m \u001b[43m    \u001b[49m\u001b[43mbatch_size\u001b[49m\u001b[38;5;241;43m=\u001b[39;49m\u001b[38;5;241;43m32\u001b[39;49m\u001b[43m,\u001b[49m\n\u001b[1;32m      7\u001b[0m \u001b[43m    \u001b[49m\u001b[43mverbose\u001b[49m\u001b[38;5;241;43m=\u001b[39;49m\u001b[38;5;241;43m2\u001b[39;49m\n\u001b[1;32m      8\u001b[0m \u001b[43m)\u001b[49m\n",
      "File \u001b[0;32m~/.local/lib/python3.10/site-packages/keras/src/utils/traceback_utils.py:117\u001b[0m, in \u001b[0;36mfilter_traceback.<locals>.error_handler\u001b[0;34m(*args, **kwargs)\u001b[0m\n\u001b[1;32m    115\u001b[0m filtered_tb \u001b[38;5;241m=\u001b[39m \u001b[38;5;28;01mNone\u001b[39;00m\n\u001b[1;32m    116\u001b[0m \u001b[38;5;28;01mtry\u001b[39;00m:\n\u001b[0;32m--> 117\u001b[0m     \u001b[38;5;28;01mreturn\u001b[39;00m \u001b[43mfn\u001b[49m\u001b[43m(\u001b[49m\u001b[38;5;241;43m*\u001b[39;49m\u001b[43margs\u001b[49m\u001b[43m,\u001b[49m\u001b[43m \u001b[49m\u001b[38;5;241;43m*\u001b[39;49m\u001b[38;5;241;43m*\u001b[39;49m\u001b[43mkwargs\u001b[49m\u001b[43m)\u001b[49m\n\u001b[1;32m    118\u001b[0m \u001b[38;5;28;01mexcept\u001b[39;00m \u001b[38;5;167;01mException\u001b[39;00m \u001b[38;5;28;01mas\u001b[39;00m e:\n\u001b[1;32m    119\u001b[0m     filtered_tb \u001b[38;5;241m=\u001b[39m _process_traceback_frames(e\u001b[38;5;241m.\u001b[39m__traceback__)\n",
      "File \u001b[0;32m~/.local/lib/python3.10/site-packages/keras/src/backend/tensorflow/trainer.py:368\u001b[0m, in \u001b[0;36mTensorFlowTrainer.fit\u001b[0;34m(self, x, y, batch_size, epochs, verbose, callbacks, validation_split, validation_data, shuffle, class_weight, sample_weight, initial_epoch, steps_per_epoch, validation_steps, validation_batch_size, validation_freq)\u001b[0m\n\u001b[1;32m    366\u001b[0m \u001b[38;5;28;01mfor\u001b[39;00m step, iterator \u001b[38;5;129;01min\u001b[39;00m epoch_iterator:\n\u001b[1;32m    367\u001b[0m     callbacks\u001b[38;5;241m.\u001b[39mon_train_batch_begin(step)\n\u001b[0;32m--> 368\u001b[0m     logs \u001b[38;5;241m=\u001b[39m \u001b[38;5;28;43mself\u001b[39;49m\u001b[38;5;241;43m.\u001b[39;49m\u001b[43mtrain_function\u001b[49m\u001b[43m(\u001b[49m\u001b[43miterator\u001b[49m\u001b[43m)\u001b[49m\n\u001b[1;32m    369\u001b[0m     callbacks\u001b[38;5;241m.\u001b[39mon_train_batch_end(step, logs)\n\u001b[1;32m    370\u001b[0m     \u001b[38;5;28;01mif\u001b[39;00m \u001b[38;5;28mself\u001b[39m\u001b[38;5;241m.\u001b[39mstop_training:\n",
      "File \u001b[0;32m~/.local/lib/python3.10/site-packages/keras/src/backend/tensorflow/trainer.py:216\u001b[0m, in \u001b[0;36mTensorFlowTrainer._make_function.<locals>.function\u001b[0;34m(iterator)\u001b[0m\n\u001b[1;32m    212\u001b[0m \u001b[38;5;28;01mdef\u001b[39;00m \u001b[38;5;21mfunction\u001b[39m(iterator):\n\u001b[1;32m    213\u001b[0m     \u001b[38;5;28;01mif\u001b[39;00m \u001b[38;5;28misinstance\u001b[39m(\n\u001b[1;32m    214\u001b[0m         iterator, (tf\u001b[38;5;241m.\u001b[39mdata\u001b[38;5;241m.\u001b[39mIterator, tf\u001b[38;5;241m.\u001b[39mdistribute\u001b[38;5;241m.\u001b[39mDistributedIterator)\n\u001b[1;32m    215\u001b[0m     ):\n\u001b[0;32m--> 216\u001b[0m         opt_outputs \u001b[38;5;241m=\u001b[39m \u001b[43mmulti_step_on_iterator\u001b[49m\u001b[43m(\u001b[49m\u001b[43miterator\u001b[49m\u001b[43m)\u001b[49m\n\u001b[1;32m    217\u001b[0m         \u001b[38;5;28;01mif\u001b[39;00m \u001b[38;5;129;01mnot\u001b[39;00m opt_outputs\u001b[38;5;241m.\u001b[39mhas_value():\n\u001b[1;32m    218\u001b[0m             \u001b[38;5;28;01mraise\u001b[39;00m \u001b[38;5;167;01mStopIteration\u001b[39;00m\n",
      "File \u001b[0;32m~/.local/lib/python3.10/site-packages/tensorflow/python/util/traceback_utils.py:150\u001b[0m, in \u001b[0;36mfilter_traceback.<locals>.error_handler\u001b[0;34m(*args, **kwargs)\u001b[0m\n\u001b[1;32m    148\u001b[0m filtered_tb \u001b[38;5;241m=\u001b[39m \u001b[38;5;28;01mNone\u001b[39;00m\n\u001b[1;32m    149\u001b[0m \u001b[38;5;28;01mtry\u001b[39;00m:\n\u001b[0;32m--> 150\u001b[0m   \u001b[38;5;28;01mreturn\u001b[39;00m \u001b[43mfn\u001b[49m\u001b[43m(\u001b[49m\u001b[38;5;241;43m*\u001b[39;49m\u001b[43margs\u001b[49m\u001b[43m,\u001b[49m\u001b[43m \u001b[49m\u001b[38;5;241;43m*\u001b[39;49m\u001b[38;5;241;43m*\u001b[39;49m\u001b[43mkwargs\u001b[49m\u001b[43m)\u001b[49m\n\u001b[1;32m    151\u001b[0m \u001b[38;5;28;01mexcept\u001b[39;00m \u001b[38;5;167;01mException\u001b[39;00m \u001b[38;5;28;01mas\u001b[39;00m e:\n\u001b[1;32m    152\u001b[0m   filtered_tb \u001b[38;5;241m=\u001b[39m _process_traceback_frames(e\u001b[38;5;241m.\u001b[39m__traceback__)\n",
      "File \u001b[0;32m~/.local/lib/python3.10/site-packages/tensorflow/python/eager/polymorphic_function/polymorphic_function.py:833\u001b[0m, in \u001b[0;36mFunction.__call__\u001b[0;34m(self, *args, **kwds)\u001b[0m\n\u001b[1;32m    830\u001b[0m compiler \u001b[38;5;241m=\u001b[39m \u001b[38;5;124m\"\u001b[39m\u001b[38;5;124mxla\u001b[39m\u001b[38;5;124m\"\u001b[39m \u001b[38;5;28;01mif\u001b[39;00m \u001b[38;5;28mself\u001b[39m\u001b[38;5;241m.\u001b[39m_jit_compile \u001b[38;5;28;01melse\u001b[39;00m \u001b[38;5;124m\"\u001b[39m\u001b[38;5;124mnonXla\u001b[39m\u001b[38;5;124m\"\u001b[39m\n\u001b[1;32m    832\u001b[0m \u001b[38;5;28;01mwith\u001b[39;00m OptionalXlaContext(\u001b[38;5;28mself\u001b[39m\u001b[38;5;241m.\u001b[39m_jit_compile):\n\u001b[0;32m--> 833\u001b[0m   result \u001b[38;5;241m=\u001b[39m \u001b[38;5;28;43mself\u001b[39;49m\u001b[38;5;241;43m.\u001b[39;49m\u001b[43m_call\u001b[49m\u001b[43m(\u001b[49m\u001b[38;5;241;43m*\u001b[39;49m\u001b[43margs\u001b[49m\u001b[43m,\u001b[49m\u001b[43m \u001b[49m\u001b[38;5;241;43m*\u001b[39;49m\u001b[38;5;241;43m*\u001b[39;49m\u001b[43mkwds\u001b[49m\u001b[43m)\u001b[49m\n\u001b[1;32m    835\u001b[0m new_tracing_count \u001b[38;5;241m=\u001b[39m \u001b[38;5;28mself\u001b[39m\u001b[38;5;241m.\u001b[39mexperimental_get_tracing_count()\n\u001b[1;32m    836\u001b[0m without_tracing \u001b[38;5;241m=\u001b[39m (tracing_count \u001b[38;5;241m==\u001b[39m new_tracing_count)\n",
      "File \u001b[0;32m~/.local/lib/python3.10/site-packages/tensorflow/python/eager/polymorphic_function/polymorphic_function.py:878\u001b[0m, in \u001b[0;36mFunction._call\u001b[0;34m(self, *args, **kwds)\u001b[0m\n\u001b[1;32m    875\u001b[0m \u001b[38;5;28mself\u001b[39m\u001b[38;5;241m.\u001b[39m_lock\u001b[38;5;241m.\u001b[39mrelease()\n\u001b[1;32m    876\u001b[0m \u001b[38;5;66;03m# In this case we have not created variables on the first call. So we can\u001b[39;00m\n\u001b[1;32m    877\u001b[0m \u001b[38;5;66;03m# run the first trace but we should fail if variables are created.\u001b[39;00m\n\u001b[0;32m--> 878\u001b[0m results \u001b[38;5;241m=\u001b[39m \u001b[43mtracing_compilation\u001b[49m\u001b[38;5;241;43m.\u001b[39;49m\u001b[43mcall_function\u001b[49m\u001b[43m(\u001b[49m\n\u001b[1;32m    879\u001b[0m \u001b[43m    \u001b[49m\u001b[43margs\u001b[49m\u001b[43m,\u001b[49m\u001b[43m \u001b[49m\u001b[43mkwds\u001b[49m\u001b[43m,\u001b[49m\u001b[43m \u001b[49m\u001b[38;5;28;43mself\u001b[39;49m\u001b[38;5;241;43m.\u001b[39;49m\u001b[43m_variable_creation_config\u001b[49m\n\u001b[1;32m    880\u001b[0m \u001b[43m\u001b[49m\u001b[43m)\u001b[49m\n\u001b[1;32m    881\u001b[0m \u001b[38;5;28;01mif\u001b[39;00m \u001b[38;5;28mself\u001b[39m\u001b[38;5;241m.\u001b[39m_created_variables:\n\u001b[1;32m    882\u001b[0m   \u001b[38;5;28;01mraise\u001b[39;00m \u001b[38;5;167;01mValueError\u001b[39;00m(\u001b[38;5;124m\"\u001b[39m\u001b[38;5;124mCreating variables on a non-first call to a function\u001b[39m\u001b[38;5;124m\"\u001b[39m\n\u001b[1;32m    883\u001b[0m                    \u001b[38;5;124m\"\u001b[39m\u001b[38;5;124m decorated with tf.function.\u001b[39m\u001b[38;5;124m\"\u001b[39m)\n",
      "File \u001b[0;32m~/.local/lib/python3.10/site-packages/tensorflow/python/eager/polymorphic_function/tracing_compilation.py:139\u001b[0m, in \u001b[0;36mcall_function\u001b[0;34m(args, kwargs, tracing_options)\u001b[0m\n\u001b[1;32m    137\u001b[0m bound_args \u001b[38;5;241m=\u001b[39m function\u001b[38;5;241m.\u001b[39mfunction_type\u001b[38;5;241m.\u001b[39mbind(\u001b[38;5;241m*\u001b[39margs, \u001b[38;5;241m*\u001b[39m\u001b[38;5;241m*\u001b[39mkwargs)\n\u001b[1;32m    138\u001b[0m flat_inputs \u001b[38;5;241m=\u001b[39m function\u001b[38;5;241m.\u001b[39mfunction_type\u001b[38;5;241m.\u001b[39munpack_inputs(bound_args)\n\u001b[0;32m--> 139\u001b[0m \u001b[38;5;28;01mreturn\u001b[39;00m \u001b[43mfunction\u001b[49m\u001b[38;5;241;43m.\u001b[39;49m\u001b[43m_call_flat\u001b[49m\u001b[43m(\u001b[49m\u001b[43m  \u001b[49m\u001b[38;5;66;43;03m# pylint: disable=protected-access\u001b[39;49;00m\n\u001b[1;32m    140\u001b[0m \u001b[43m    \u001b[49m\u001b[43mflat_inputs\u001b[49m\u001b[43m,\u001b[49m\u001b[43m \u001b[49m\u001b[43mcaptured_inputs\u001b[49m\u001b[38;5;241;43m=\u001b[39;49m\u001b[43mfunction\u001b[49m\u001b[38;5;241;43m.\u001b[39;49m\u001b[43mcaptured_inputs\u001b[49m\n\u001b[1;32m    141\u001b[0m \u001b[43m\u001b[49m\u001b[43m)\u001b[49m\n",
      "File \u001b[0;32m~/.local/lib/python3.10/site-packages/tensorflow/python/eager/polymorphic_function/concrete_function.py:1322\u001b[0m, in \u001b[0;36mConcreteFunction._call_flat\u001b[0;34m(self, tensor_inputs, captured_inputs)\u001b[0m\n\u001b[1;32m   1318\u001b[0m possible_gradient_type \u001b[38;5;241m=\u001b[39m gradients_util\u001b[38;5;241m.\u001b[39mPossibleTapeGradientTypes(args)\n\u001b[1;32m   1319\u001b[0m \u001b[38;5;28;01mif\u001b[39;00m (possible_gradient_type \u001b[38;5;241m==\u001b[39m gradients_util\u001b[38;5;241m.\u001b[39mPOSSIBLE_GRADIENT_TYPES_NONE\n\u001b[1;32m   1320\u001b[0m     \u001b[38;5;129;01mand\u001b[39;00m executing_eagerly):\n\u001b[1;32m   1321\u001b[0m   \u001b[38;5;66;03m# No tape is watching; skip to running the function.\u001b[39;00m\n\u001b[0;32m-> 1322\u001b[0m   \u001b[38;5;28;01mreturn\u001b[39;00m \u001b[38;5;28;43mself\u001b[39;49m\u001b[38;5;241;43m.\u001b[39;49m\u001b[43m_inference_function\u001b[49m\u001b[38;5;241;43m.\u001b[39;49m\u001b[43mcall_preflattened\u001b[49m\u001b[43m(\u001b[49m\u001b[43margs\u001b[49m\u001b[43m)\u001b[49m\n\u001b[1;32m   1323\u001b[0m forward_backward \u001b[38;5;241m=\u001b[39m \u001b[38;5;28mself\u001b[39m\u001b[38;5;241m.\u001b[39m_select_forward_and_backward_functions(\n\u001b[1;32m   1324\u001b[0m     args,\n\u001b[1;32m   1325\u001b[0m     possible_gradient_type,\n\u001b[1;32m   1326\u001b[0m     executing_eagerly)\n\u001b[1;32m   1327\u001b[0m forward_function, args_with_tangents \u001b[38;5;241m=\u001b[39m forward_backward\u001b[38;5;241m.\u001b[39mforward()\n",
      "File \u001b[0;32m~/.local/lib/python3.10/site-packages/tensorflow/python/eager/polymorphic_function/atomic_function.py:216\u001b[0m, in \u001b[0;36mAtomicFunction.call_preflattened\u001b[0;34m(self, args)\u001b[0m\n\u001b[1;32m    214\u001b[0m \u001b[38;5;28;01mdef\u001b[39;00m \u001b[38;5;21mcall_preflattened\u001b[39m(\u001b[38;5;28mself\u001b[39m, args: Sequence[core\u001b[38;5;241m.\u001b[39mTensor]) \u001b[38;5;241m-\u001b[39m\u001b[38;5;241m>\u001b[39m Any:\n\u001b[1;32m    215\u001b[0m \u001b[38;5;250m  \u001b[39m\u001b[38;5;124;03m\"\"\"Calls with flattened tensor inputs and returns the structured output.\"\"\"\u001b[39;00m\n\u001b[0;32m--> 216\u001b[0m   flat_outputs \u001b[38;5;241m=\u001b[39m \u001b[38;5;28;43mself\u001b[39;49m\u001b[38;5;241;43m.\u001b[39;49m\u001b[43mcall_flat\u001b[49m\u001b[43m(\u001b[49m\u001b[38;5;241;43m*\u001b[39;49m\u001b[43margs\u001b[49m\u001b[43m)\u001b[49m\n\u001b[1;32m    217\u001b[0m   \u001b[38;5;28;01mreturn\u001b[39;00m \u001b[38;5;28mself\u001b[39m\u001b[38;5;241m.\u001b[39mfunction_type\u001b[38;5;241m.\u001b[39mpack_output(flat_outputs)\n",
      "File \u001b[0;32m~/.local/lib/python3.10/site-packages/tensorflow/python/eager/polymorphic_function/atomic_function.py:251\u001b[0m, in \u001b[0;36mAtomicFunction.call_flat\u001b[0;34m(self, *args)\u001b[0m\n\u001b[1;32m    249\u001b[0m \u001b[38;5;28;01mwith\u001b[39;00m record\u001b[38;5;241m.\u001b[39mstop_recording():\n\u001b[1;32m    250\u001b[0m   \u001b[38;5;28;01mif\u001b[39;00m \u001b[38;5;28mself\u001b[39m\u001b[38;5;241m.\u001b[39m_bound_context\u001b[38;5;241m.\u001b[39mexecuting_eagerly():\n\u001b[0;32m--> 251\u001b[0m     outputs \u001b[38;5;241m=\u001b[39m \u001b[38;5;28;43mself\u001b[39;49m\u001b[38;5;241;43m.\u001b[39;49m\u001b[43m_bound_context\u001b[49m\u001b[38;5;241;43m.\u001b[39;49m\u001b[43mcall_function\u001b[49m\u001b[43m(\u001b[49m\n\u001b[1;32m    252\u001b[0m \u001b[43m        \u001b[49m\u001b[38;5;28;43mself\u001b[39;49m\u001b[38;5;241;43m.\u001b[39;49m\u001b[43mname\u001b[49m\u001b[43m,\u001b[49m\n\u001b[1;32m    253\u001b[0m \u001b[43m        \u001b[49m\u001b[38;5;28;43mlist\u001b[39;49m\u001b[43m(\u001b[49m\u001b[43margs\u001b[49m\u001b[43m)\u001b[49m\u001b[43m,\u001b[49m\n\u001b[1;32m    254\u001b[0m \u001b[43m        \u001b[49m\u001b[38;5;28;43mlen\u001b[39;49m\u001b[43m(\u001b[49m\u001b[38;5;28;43mself\u001b[39;49m\u001b[38;5;241;43m.\u001b[39;49m\u001b[43mfunction_type\u001b[49m\u001b[38;5;241;43m.\u001b[39;49m\u001b[43mflat_outputs\u001b[49m\u001b[43m)\u001b[49m\u001b[43m,\u001b[49m\n\u001b[1;32m    255\u001b[0m \u001b[43m    \u001b[49m\u001b[43m)\u001b[49m\n\u001b[1;32m    256\u001b[0m   \u001b[38;5;28;01melse\u001b[39;00m:\n\u001b[1;32m    257\u001b[0m     outputs \u001b[38;5;241m=\u001b[39m make_call_op_in_graph(\n\u001b[1;32m    258\u001b[0m         \u001b[38;5;28mself\u001b[39m,\n\u001b[1;32m    259\u001b[0m         \u001b[38;5;28mlist\u001b[39m(args),\n\u001b[1;32m    260\u001b[0m         \u001b[38;5;28mself\u001b[39m\u001b[38;5;241m.\u001b[39m_bound_context\u001b[38;5;241m.\u001b[39mfunction_call_options\u001b[38;5;241m.\u001b[39mas_attrs(),\n\u001b[1;32m    261\u001b[0m     )\n",
      "File \u001b[0;32m~/.local/lib/python3.10/site-packages/tensorflow/python/eager/context.py:1683\u001b[0m, in \u001b[0;36mContext.call_function\u001b[0;34m(self, name, tensor_inputs, num_outputs)\u001b[0m\n\u001b[1;32m   1681\u001b[0m cancellation_context \u001b[38;5;241m=\u001b[39m cancellation\u001b[38;5;241m.\u001b[39mcontext()\n\u001b[1;32m   1682\u001b[0m \u001b[38;5;28;01mif\u001b[39;00m cancellation_context \u001b[38;5;129;01mis\u001b[39;00m \u001b[38;5;28;01mNone\u001b[39;00m:\n\u001b[0;32m-> 1683\u001b[0m   outputs \u001b[38;5;241m=\u001b[39m \u001b[43mexecute\u001b[49m\u001b[38;5;241;43m.\u001b[39;49m\u001b[43mexecute\u001b[49m\u001b[43m(\u001b[49m\n\u001b[1;32m   1684\u001b[0m \u001b[43m      \u001b[49m\u001b[43mname\u001b[49m\u001b[38;5;241;43m.\u001b[39;49m\u001b[43mdecode\u001b[49m\u001b[43m(\u001b[49m\u001b[38;5;124;43m\"\u001b[39;49m\u001b[38;5;124;43mutf-8\u001b[39;49m\u001b[38;5;124;43m\"\u001b[39;49m\u001b[43m)\u001b[49m\u001b[43m,\u001b[49m\n\u001b[1;32m   1685\u001b[0m \u001b[43m      \u001b[49m\u001b[43mnum_outputs\u001b[49m\u001b[38;5;241;43m=\u001b[39;49m\u001b[43mnum_outputs\u001b[49m\u001b[43m,\u001b[49m\n\u001b[1;32m   1686\u001b[0m \u001b[43m      \u001b[49m\u001b[43minputs\u001b[49m\u001b[38;5;241;43m=\u001b[39;49m\u001b[43mtensor_inputs\u001b[49m\u001b[43m,\u001b[49m\n\u001b[1;32m   1687\u001b[0m \u001b[43m      \u001b[49m\u001b[43mattrs\u001b[49m\u001b[38;5;241;43m=\u001b[39;49m\u001b[43mattrs\u001b[49m\u001b[43m,\u001b[49m\n\u001b[1;32m   1688\u001b[0m \u001b[43m      \u001b[49m\u001b[43mctx\u001b[49m\u001b[38;5;241;43m=\u001b[39;49m\u001b[38;5;28;43mself\u001b[39;49m\u001b[43m,\u001b[49m\n\u001b[1;32m   1689\u001b[0m \u001b[43m  \u001b[49m\u001b[43m)\u001b[49m\n\u001b[1;32m   1690\u001b[0m \u001b[38;5;28;01melse\u001b[39;00m:\n\u001b[1;32m   1691\u001b[0m   outputs \u001b[38;5;241m=\u001b[39m execute\u001b[38;5;241m.\u001b[39mexecute_with_cancellation(\n\u001b[1;32m   1692\u001b[0m       name\u001b[38;5;241m.\u001b[39mdecode(\u001b[38;5;124m\"\u001b[39m\u001b[38;5;124mutf-8\u001b[39m\u001b[38;5;124m\"\u001b[39m),\n\u001b[1;32m   1693\u001b[0m       num_outputs\u001b[38;5;241m=\u001b[39mnum_outputs,\n\u001b[0;32m   (...)\u001b[0m\n\u001b[1;32m   1697\u001b[0m       cancellation_manager\u001b[38;5;241m=\u001b[39mcancellation_context,\n\u001b[1;32m   1698\u001b[0m   )\n",
      "File \u001b[0;32m~/.local/lib/python3.10/site-packages/tensorflow/python/eager/execute.py:53\u001b[0m, in \u001b[0;36mquick_execute\u001b[0;34m(op_name, num_outputs, inputs, attrs, ctx, name)\u001b[0m\n\u001b[1;32m     51\u001b[0m \u001b[38;5;28;01mtry\u001b[39;00m:\n\u001b[1;32m     52\u001b[0m   ctx\u001b[38;5;241m.\u001b[39mensure_initialized()\n\u001b[0;32m---> 53\u001b[0m   tensors \u001b[38;5;241m=\u001b[39m \u001b[43mpywrap_tfe\u001b[49m\u001b[38;5;241;43m.\u001b[39;49m\u001b[43mTFE_Py_Execute\u001b[49m\u001b[43m(\u001b[49m\u001b[43mctx\u001b[49m\u001b[38;5;241;43m.\u001b[39;49m\u001b[43m_handle\u001b[49m\u001b[43m,\u001b[49m\u001b[43m \u001b[49m\u001b[43mdevice_name\u001b[49m\u001b[43m,\u001b[49m\u001b[43m \u001b[49m\u001b[43mop_name\u001b[49m\u001b[43m,\u001b[49m\n\u001b[1;32m     54\u001b[0m \u001b[43m                                      \u001b[49m\u001b[43minputs\u001b[49m\u001b[43m,\u001b[49m\u001b[43m \u001b[49m\u001b[43mattrs\u001b[49m\u001b[43m,\u001b[49m\u001b[43m \u001b[49m\u001b[43mnum_outputs\u001b[49m\u001b[43m)\u001b[49m\n\u001b[1;32m     55\u001b[0m \u001b[38;5;28;01mexcept\u001b[39;00m core\u001b[38;5;241m.\u001b[39m_NotOkStatusException \u001b[38;5;28;01mas\u001b[39;00m e:\n\u001b[1;32m     56\u001b[0m   \u001b[38;5;28;01mif\u001b[39;00m name \u001b[38;5;129;01mis\u001b[39;00m \u001b[38;5;129;01mnot\u001b[39;00m \u001b[38;5;28;01mNone\u001b[39;00m:\n",
      "\u001b[0;31mKeyboardInterrupt\u001b[0m: "
     ]
    }
   ],
   "source": [
    "# Train the model with the given data\n",
    "model.fit(\n",
    "    X_train, Y_train,\n",
    "    validation_split=0.2,\n",
    "    epochs=50,\n",
    "    batch_size=32,\n",
    "    verbose=2\n",
    ")"
   ]
  },
  {
   "cell_type": "markdown",
   "metadata": {},
   "source": [
    "#### Saving and Loading of Trained Neural Network Models"
   ]
  },
  {
   "cell_type": "markdown",
   "metadata": {},
   "source": [
    "##### Saving of the Trained Neural Network Model"
   ]
  },
  {
   "cell_type": "code",
   "execution_count": 66,
   "metadata": {},
   "outputs": [],
   "source": [
    "# Get the desired name from user to save the model\n",
    "name = input('Save model with name:')\n",
    "\n",
    "# Save the model with the desired name\n",
    "model.save(MODELS + name  + MODEL_EXTENSION)"
   ]
  },
  {
   "cell_type": "markdown",
   "metadata": {},
   "source": [
    "##### Loading of a Pre-Trained Neural Network Model"
   ]
  },
  {
   "cell_type": "code",
   "execution_count": 310,
   "metadata": {},
   "outputs": [
    {
     "name": "stderr",
     "output_type": "stream",
     "text": [
      "/home/guinucool/.local/lib/python3.10/site-packages/keras/src/saving/saving_lib.py:757: UserWarning: Skipping variable loading for optimizer 'rmsprop', because it has 18 variables whereas the saved optimizer has 34 variables. \n",
      "  saveable.load_own_variables(weights_store.get(inner_path))\n"
     ]
    }
   ],
   "source": [
    "# Get the desired name from user to save the model\n",
    "name = input('Load model with name:')\n",
    "\n",
    "# Save the model with the desired name\n",
    "model = load_model(MODELS + name  + MODEL_EXTENSION)"
   ]
  },
  {
   "cell_type": "markdown",
   "metadata": {},
   "source": [
    "#### Evaluation of the Neural Network Model"
   ]
  },
  {
   "cell_type": "code",
   "execution_count": 67,
   "metadata": {},
   "outputs": [
    {
     "name": "stdout",
     "output_type": "stream",
     "text": [
      "\u001b[1m155/155\u001b[0m \u001b[32m━━━━━━━━━━━━━━━━━━━━\u001b[0m\u001b[37m\u001b[0m \u001b[1m1s\u001b[0m 6ms/step - accuracy: 0.9626 - loss: 0.4562\n",
      "Accuracy: 0.9611\n",
      "Loss: 0.4568\n"
     ]
    }
   ],
   "source": [
    "# Calculate the accuracy and loss of the model in the test data\n",
    "test_loss, test_accuracy = model.evaluate(X_test, Y_test)\n",
    "\n",
    "# Print the model performance\n",
    "print(f'Accuracy: {test_accuracy:.4f}')\n",
    "print(f'Loss: {test_loss:.4f}')"
   ]
  }
 ],
 "metadata": {
  "kernelspec": {
   "display_name": "Python 3",
   "language": "python",
   "name": "python3"
  },
  "language_info": {
   "codemirror_mode": {
    "name": "ipython",
    "version": 3
   },
   "file_extension": ".py",
   "mimetype": "text/x-python",
   "name": "python",
   "nbconvert_exporter": "python",
   "pygments_lexer": "ipython3",
   "version": "3.10.12"
  }
 },
 "nbformat": 4,
 "nbformat_minor": 2
}
